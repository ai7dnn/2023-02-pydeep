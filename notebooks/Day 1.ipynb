{
 "cells": [
  {
   "cell_type": "code",
   "execution_count": 1,
   "id": "3d778aea-8f18-428b-bc50-f2c134a41ca0",
   "metadata": {},
   "outputs": [
    {
     "data": {
      "text/plain": [
       "'3.9.16 (main, Jan 11 2023, 16:16:36) [MSC v.1916 64 bit (AMD64)]'"
      ]
     },
     "execution_count": 1,
     "metadata": {},
     "output_type": "execute_result"
    }
   ],
   "source": [
    "import sys \n",
    "sys.version"
   ]
  },
  {
   "cell_type": "code",
   "execution_count": 3,
   "id": "72a7b8bd-6cf3-4935-8192-5d5c0934de30",
   "metadata": {
    "tags": []
   },
   "outputs": [
    {
     "data": {
      "text/plain": [
       "'Windows-10-10.0.19045-SP0'"
      ]
     },
     "execution_count": 3,
     "metadata": {},
     "output_type": "execute_result"
    }
   ],
   "source": [
    "import platform\n",
    "platform.platform()"
   ]
  },
  {
   "cell_type": "code",
   "execution_count": 4,
   "id": "29e56e24-488b-4945-b13b-ac501f17da73",
   "metadata": {
    "tags": []
   },
   "outputs": [
    {
     "name": "stdout",
     "output_type": "stream",
     "text": [
      "2.9.0\n"
     ]
    }
   ],
   "source": [
    "import tensorflow as tf\n",
    "print(tf.__version__)"
   ]
  },
  {
   "cell_type": "code",
   "execution_count": 2,
   "id": "9ac17e98-dd9b-448f-b9c2-1a3557c2d099",
   "metadata": {
    "tags": []
   },
   "outputs": [
    {
     "data": {
      "text/plain": [
       "[PhysicalDevice(name='/physical_device:CPU:0', device_type='CPU'),\n",
       " PhysicalDevice(name='/physical_device:GPU:0', device_type='GPU')]"
      ]
     },
     "execution_count": 2,
     "metadata": {},
     "output_type": "execute_result"
    }
   ],
   "source": [
    "tf.config.get_visible_devices()"
   ]
  },
  {
   "cell_type": "code",
   "execution_count": 3,
   "id": "9ca32ea5-ad64-468d-aaa1-4fec39f2c6e9",
   "metadata": {
    "tags": []
   },
   "outputs": [],
   "source": [
    "tf.config.set_visible_devices([], device_type='gpu')"
   ]
  },
  {
   "cell_type": "markdown",
   "id": "3138867f-9fed-4836-99da-421a62f99ad4",
   "metadata": {},
   "source": [
    "### 신경망 리뷰"
   ]
  },
  {
   "cell_type": "code",
   "execution_count": 13,
   "id": "f5b0042b-9c69-445e-9b74-ba1af13f7210",
   "metadata": {
    "tags": []
   },
   "outputs": [],
   "source": [
    "import numpy as np\n",
    "import pandas as pd\n",
    "import matplotlib.pyplot as plt"
   ]
  },
  {
   "cell_type": "code",
   "execution_count": 6,
   "id": "b25a6123-f730-4eb8-93ca-f4667579c301",
   "metadata": {
    "tags": []
   },
   "outputs": [
    {
     "name": "stdout",
     "output_type": "stream",
     "text": [
      "Downloading data from https://storage.googleapis.com/tensorflow/tf-keras-datasets/mnist.npz\n",
      "11490434/11490434 [==============================] - 0s 0us/step\n"
     ]
    }
   ],
   "source": [
    "from tensorflow.keras.datasets import mnist\n",
    "(train_images, train_labels), (test_images, test_labels) = mnist.load_data()"
   ]
  },
  {
   "cell_type": "code",
   "execution_count": 7,
   "id": "7bb56545-220e-4ab7-a7dd-7e0f69a44f37",
   "metadata": {
    "tags": []
   },
   "outputs": [
    {
     "data": {
      "text/plain": [
       "numpy.ndarray"
      ]
     },
     "execution_count": 7,
     "metadata": {},
     "output_type": "execute_result"
    }
   ],
   "source": [
    "type(train_images)"
   ]
  },
  {
   "cell_type": "code",
   "execution_count": 10,
   "id": "9e404831-bd00-4be3-9cd1-84e026a67897",
   "metadata": {
    "tags": []
   },
   "outputs": [
    {
     "data": {
      "text/plain": [
       "array([0, 1, 2, 3, 4, 5, 6, 7, 8, 9], dtype=uint8)"
      ]
     },
     "execution_count": 10,
     "metadata": {},
     "output_type": "execute_result"
    }
   ],
   "source": [
    "np.unique(train_labels)"
   ]
  },
  {
   "cell_type": "code",
   "execution_count": 11,
   "id": "b74f0925-2b67-4c37-a6ce-c2bf8c682040",
   "metadata": {
    "tags": []
   },
   "outputs": [
    {
     "data": {
      "text/plain": [
       "((60000, 28, 28), (60000,))"
      ]
     },
     "execution_count": 11,
     "metadata": {},
     "output_type": "execute_result"
    }
   ],
   "source": [
    "train_images.shape, train_labels.shape"
   ]
  },
  {
   "cell_type": "code",
   "execution_count": 14,
   "id": "dc4b765e-bd12-4229-8c0f-0c56aa2f3836",
   "metadata": {
    "tags": []
   },
   "outputs": [
    {
     "data": {
      "text/plain": [
       "<matplotlib.image.AxesImage at 0x27acf7dc0d0>"
      ]
     },
     "execution_count": 14,
     "metadata": {},
     "output_type": "execute_result"
    },
    {
     "data": {
      "image/png": "[encoded data removed]",
      "text/plain": [
       "<Figure size 640x480 with 1 Axes>"
      ]
     },
     "metadata": {},
     "output_type": "display_data"
    }
   ],
   "source": [
    "plt.imshow(train_images[0])"
   ]
  },
  {
   "cell_type": "code",
   "execution_count": 20,
   "id": "3368b465-769b-4965-8992-e1924d4705df",
   "metadata": {
    "tags": []
   },
   "outputs": [
    {
     "data": {
      "image/png": "[encoded data removed]",
      "text/plain": [
       "<Figure size 800x400 with 10 Axes>"
      ]
     },
     "metadata": {},
     "output_type": "display_data"
    }
   ],
   "source": [
    "fig, subplots = plt.subplots(2, 5, figsize=(8, 4))\n",
    "for 표본, 라벨, 그래프 in zip(train_images, train_labels, subplots.ravel()):\n",
    "    그래프.imshow(표본, 'Greys')\n",
    "    그래프.set_title(f'y={라벨}')\n",
    "    그래프.axis('off')"
   ]
  },
  {
   "cell_type": "markdown",
   "id": "81002fbc-6973-4a66-8cd1-19a5b8b52797",
   "metadata": {
    "tags": []
   },
   "source": [
    "### 손글씨 인식 모형\n",
    "\n",
    "1. 기계학습\n",
    "1. 신경망\n",
    "    1. MLP\n",
    "    1. ConvNet"
   ]
  },
  {
   "cell_type": "code",
   "execution_count": 23,
   "id": "71a560b1-7bfe-4a9e-945e-e0e748c9db8c",
   "metadata": {
    "tags": []
   },
   "outputs": [
    {
     "data": {
      "text/plain": [
       "(60000, 28, 28)"
      ]
     },
     "execution_count": 23,
     "metadata": {},
     "output_type": "execute_result"
    }
   ],
   "source": [
    "train_images.shape"
   ]
  },
  {
   "cell_type": "code",
   "execution_count": 24,
   "id": "a554911b-2252-44da-844f-1d42e0884f27",
   "metadata": {
    "tags": []
   },
   "outputs": [],
   "source": [
    "def 전처리(x):\n",
    "    x = x.astype('float32')\n",
    "    x = x.reshape(-1, 28 * 28)\n",
    "    x /= 255\n",
    "    return x"
   ]
  },
  {
   "cell_type": "code",
   "execution_count": 27,
   "id": "8a4da3c5-fc19-4f9f-9587-efba66877324",
   "metadata": {
    "tags": []
   },
   "outputs": [
    {
     "name": "stdout",
     "output_type": "stream",
     "text": [
      "(60000, 784), 0.0 <= x <= 1.0\n"
     ]
    }
   ],
   "source": [
    "x_train = 전처리(train_images)\n",
    "print(f'{x_train.shape}, {x_train.min()} <= x <= {x_train.max()}')"
   ]
  },
  {
   "cell_type": "code",
   "execution_count": 28,
   "id": "4a3cfb75-5a99-42b0-819d-c7cbb5168a35",
   "metadata": {
    "tags": []
   },
   "outputs": [
    {
     "name": "stdout",
     "output_type": "stream",
     "text": [
      "(10000, 784), 0.0 <= x <= 1.0\n"
     ]
    }
   ],
   "source": [
    "x_test = 전처리(test_images)\n",
    "print(f'{x_test.shape}, {x_test.min()} <= x <= {x_test.max()}')"
   ]
  },
  {
   "cell_type": "code",
   "execution_count": 33,
   "id": "a748c38b-bcc1-4abe-afbf-6b566e6a74fd",
   "metadata": {
    "tags": []
   },
   "outputs": [],
   "source": [
    "from sklearn.linear_model import LogisticRegression"
   ]
  },
  {
   "cell_type": "code",
   "execution_count": 35,
   "id": "65f87938-8385-4bd7-8d98-b7c82c8e8453",
   "metadata": {
    "tags": []
   },
   "outputs": [
    {
     "name": "stderr",
     "output_type": "stream",
     "text": [
      "C:\\Users\\PC\\.conda\\envs\\pydeep\\lib\\site-packages\\sklearn\\linear_model\\_logistic.py:458: ConvergenceWarning: lbfgs failed to converge (status=1):\n",
      "STOP: TOTAL NO. of ITERATIONS REACHED LIMIT.\n",
      "\n",
      "Increase the number of iterations (max_iter) or scale the data as shown in:\n",
      "    https://scikit-learn.org/stable/modules/preprocessing.html\n",
      "Please also refer to the documentation for alternative solver options:\n",
      "    https://scikit-learn.org/stable/modules/linear_model.html#logistic-regression\n",
      "  n_iter_i = _check_optimize_result(\n"
     ]
    }
   ],
   "source": [
    "logreg = LogisticRegression(C=1.0).fit(x_train, train_labels)"
   ]
  },
  {
   "cell_type": "code",
   "execution_count": 65,
   "id": "2a79302b-b1b0-4b6c-a9c5-1cc5898c3af6",
   "metadata": {
    "tags": []
   },
   "outputs": [
    {
     "name": "stdout",
     "output_type": "stream",
     "text": [
      "R2(최적화)=0.935, R2(일반화)=0.926\n"
     ]
    }
   ],
   "source": [
    "print(f'R2(최적화)={logreg.score(x_train, train_labels):.3f}, R2(일반화)={logreg.score(x_test, test_labels):.3f}')"
   ]
  },
  {
   "cell_type": "code",
   "execution_count": 44,
   "id": "3b29204f-82e8-4382-9e9c-77729853e0b9",
   "metadata": {
    "tags": []
   },
   "outputs": [],
   "source": [
    "from sklearn.ensemble import RandomForestClassifier\n",
    "mnist_forest = RandomForestClassifier().fit(x_train, train_labels)"
   ]
  },
  {
   "cell_type": "code",
   "execution_count": 66,
   "id": "f7423cf4-4c73-4693-9b0b-597a61b74788",
   "metadata": {
    "tags": []
   },
   "outputs": [
    {
     "name": "stdout",
     "output_type": "stream",
     "text": [
      "R2(최적화)=1.000, R2(일반화)=0.970\n"
     ]
    }
   ],
   "source": [
    "print(f'R2(최적화)={mnist_forest.score(x_train, train_labels):.3f}, R2(일반화)={mnist_forest.score(x_test, test_labels):.3f}')"
   ]
  },
  {
   "cell_type": "code",
   "execution_count": 68,
   "id": "feafaadc-a76b-4531-83cd-0d2f9d6fe736",
   "metadata": {
    "tags": []
   },
   "outputs": [
    {
     "name": "stdout",
     "output_type": "stream",
     "text": [
      "Epoch 1/5\n",
      "600/600 [==============================] - 2s 4ms/step - loss: 0.2416 - accuracy: 0.9292\n",
      "Epoch 2/5\n",
      "600/600 [==============================] - 2s 4ms/step - loss: 0.0980 - accuracy: 0.9711\n",
      "Epoch 3/5\n",
      "600/600 [==============================] - 2s 4ms/step - loss: 0.0655 - accuracy: 0.9804\n",
      "Epoch 4/5\n",
      "600/600 [==============================] - 2s 4ms/step - loss: 0.0478 - accuracy: 0.9855\n",
      "Epoch 5/5\n",
      "600/600 [==============================] - 2s 4ms/step - loss: 0.0365 - accuracy: 0.9891\n"
     ]
    }
   ],
   "source": [
    "from tensorflow import keras\n",
    "from tensorflow.keras import Sequential, layers, losses, optimizers\n",
    "\n",
    "mlp = keras.Sequential([\n",
    "    layers.Dense(512, activation = 'relu'), \n",
    "    layers.Dense(10, activation = 'softmax')\n",
    "])   \n",
    "\n",
    "mlp.compile(loss = losses.sparse_categorical_crossentropy, optimizer=optimizers.RMSprop(), metrics=['accuracy'])\n",
    "history = mlp.fit(x_train, train_labels, epochs=5, batch_size=100)"
   ]
  },
  {
   "cell_type": "code",
   "execution_count": 69,
   "id": "fc8c5eac-3ad3-446b-8e54-2a0bc1c2fd82",
   "metadata": {
    "tags": []
   },
   "outputs": [
    {
     "name": "stdout",
     "output_type": "stream",
     "text": [
      "313/313 [==============================] - 1s 3ms/step - loss: 0.0716 - accuracy: 0.9783\n",
      "정확도=97.83%\n"
     ]
    }
   ],
   "source": [
    "loss, acc = mlp.evaluate(x_test, test_labels)\n",
    "print(f'정확도={acc:.2%}')"
   ]
  },
  {
   "cell_type": "markdown",
   "id": "e5e6ffe7-9b2d-4b6e-973c-faaf99a54807",
   "metadata": {
    "tags": []
   },
   "source": [
    "### Tensorflow API"
   ]
  },
  {
   "cell_type": "code",
   "execution_count": 72,
   "id": "51879314-c1b1-4d7c-aa40-83a3ca113523",
   "metadata": {
    "tags": []
   },
   "outputs": [
    {
     "data": {
      "text/plain": [
       "array([0, 1, 2, 3, 4, 5, 6, 7, 8, 9])"
      ]
     },
     "execution_count": 72,
     "metadata": {},
     "output_type": "execute_result"
    }
   ],
   "source": [
    "x = np.array(range(10))\n",
    "x"
   ]
  },
  {
   "cell_type": "code",
   "execution_count": 73,
   "id": "fa8dcf7e-6d90-4d2b-bd29-b1f6306c3079",
   "metadata": {
    "tags": []
   },
   "outputs": [
    {
     "data": {
      "text/plain": [
       "array([0, 1, 2, 3, 4, 5, 6, 7, 8, 9])"
      ]
     },
     "execution_count": 73,
     "metadata": {},
     "output_type": "execute_result"
    }
   ],
   "source": [
    "x = np.arange(10)\n",
    "x"
   ]
  },
  {
   "cell_type": "code",
   "execution_count": 74,
   "id": "e68151df-77c7-4f1a-8845-3c38db069462",
   "metadata": {
    "tags": []
   },
   "outputs": [
    {
     "data": {
      "text/plain": [
       "(10,)"
      ]
     },
     "execution_count": 74,
     "metadata": {},
     "output_type": "execute_result"
    }
   ],
   "source": [
    "x.shape"
   ]
  },
  {
   "cell_type": "code",
   "execution_count": 75,
   "id": "33d619f7-8b4e-48c9-87ff-c5ba64014fb2",
   "metadata": {
    "tags": []
   },
   "outputs": [
    {
     "data": {
      "text/plain": [
       "1"
      ]
     },
     "execution_count": 75,
     "metadata": {},
     "output_type": "execute_result"
    }
   ],
   "source": [
    "x.ndim"
   ]
  },
  {
   "cell_type": "code",
   "execution_count": 76,
   "id": "d3defd92-0366-41dd-916b-43065feb3531",
   "metadata": {
    "tags": []
   },
   "outputs": [
    {
     "data": {
      "text/plain": [
       "<tf.Tensor: shape=(10,), dtype=int32, numpy=array([0, 1, 2, 3, 4, 5, 6, 7, 8, 9])>"
      ]
     },
     "execution_count": 76,
     "metadata": {},
     "output_type": "execute_result"
    }
   ],
   "source": [
    "x = tf.constant(range(10))\n",
    "x"
   ]
  },
  {
   "cell_type": "code",
   "execution_count": 77,
   "id": "a78f50c4-c17c-44c1-be62-16239c29307f",
   "metadata": {
    "tags": []
   },
   "outputs": [
    {
     "data": {
      "text/plain": [
       "array([0, 1, 2, 3, 4, 5, 6, 7, 8, 9])"
      ]
     },
     "execution_count": 77,
     "metadata": {},
     "output_type": "execute_result"
    }
   ],
   "source": [
    "x.numpy()"
   ]
  },
  {
   "cell_type": "code",
   "execution_count": 79,
   "id": "f9de831e-8013-40c1-8c31-25b1f37e229d",
   "metadata": {
    "tags": []
   },
   "outputs": [
    {
     "data": {
      "text/plain": [
       "array([[0, 1, 2],\n",
       "       [3, 4, 5]])"
      ]
     },
     "execution_count": 79,
     "metadata": {},
     "output_type": "execute_result"
    }
   ],
   "source": [
    "x2 = np.array([[0, 1, 2], [3, 4, 5]])\n",
    "x2"
   ]
  },
  {
   "cell_type": "code",
   "execution_count": 80,
   "id": "2bec233a-55c0-49c8-91fe-a1f79b02d624",
   "metadata": {
    "tags": []
   },
   "outputs": [
    {
     "data": {
      "text/plain": [
       "<tf.Tensor: shape=(2, 3), dtype=int32, numpy=\n",
       "array([[0, 1, 2],\n",
       "       [3, 4, 5]])>"
      ]
     },
     "execution_count": 80,
     "metadata": {},
     "output_type": "execute_result"
    }
   ],
   "source": [
    "tf.constant(x2)"
   ]
  },
  {
   "cell_type": "code",
   "execution_count": 81,
   "id": "f638d9f3-aa0b-4e2d-8ac4-86898d7838f6",
   "metadata": {
    "tags": []
   },
   "outputs": [
    {
     "data": {
      "text/plain": [
       "array([[0, 0, 0],\n",
       "       [0, 0, 0]])"
      ]
     },
     "execution_count": 81,
     "metadata": {},
     "output_type": "execute_result"
    }
   ],
   "source": [
    "x2 - x2"
   ]
  },
  {
   "cell_type": "code",
   "execution_count": 82,
   "id": "d27c7511-9a1f-4847-a9c9-41aef2fc6c1f",
   "metadata": {
    "tags": []
   },
   "outputs": [
    {
     "data": {
      "text/plain": [
       "<tf.Tensor: shape=(2, 3), dtype=int32, numpy=\n",
       "array([[ 0,  2,  4],\n",
       "       [ 6,  8, 10]])>"
      ]
     },
     "execution_count": 82,
     "metadata": {},
     "output_type": "execute_result"
    }
   ],
   "source": [
    "tf.constant(x2) * 2"
   ]
  },
  {
   "cell_type": "code",
   "execution_count": 83,
   "id": "0da664f7-b492-4cdf-bf64-568fa96fbbfd",
   "metadata": {
    "tags": []
   },
   "outputs": [
    {
     "data": {
      "text/plain": [
       "<tf.Tensor: shape=(2, 3), dtype=int32, numpy=\n",
       "array([[0, 0, 0],\n",
       "       [0, 0, 0]])>"
      ]
     },
     "execution_count": 83,
     "metadata": {},
     "output_type": "execute_result"
    }
   ],
   "source": [
    "tf.constant(x2) - tf.constant(x2)"
   ]
  },
  {
   "cell_type": "code",
   "execution_count": 84,
   "id": "3f382bd9-2a52-4be8-935b-ffbe437b9436",
   "metadata": {
    "tags": []
   },
   "outputs": [
    {
     "data": {
      "text/plain": [
       "<tf.Tensor: shape=(2, 2), dtype=int32, numpy=\n",
       "array([[1, 1],\n",
       "       [1, 1]])>"
      ]
     },
     "execution_count": 84,
     "metadata": {},
     "output_type": "execute_result"
    }
   ],
   "source": [
    "x1 = tf.constant([[1, 2], [3, 4]])\n",
    "x2 = tf.constant([[-1, -1], [1, 1]])\n",
    "tf.matmul(x1, x2)\n"
   ]
  },
  {
   "cell_type": "code",
   "execution_count": 85,
   "id": "aa3d0950-ef17-4c49-9dc3-cc6eefa80ac1",
   "metadata": {
    "tags": []
   },
   "outputs": [
    {
     "data": {
      "text/plain": [
       "array([[1, 1],\n",
       "       [1, 1]])"
      ]
     },
     "execution_count": 85,
     "metadata": {},
     "output_type": "execute_result"
    }
   ],
   "source": [
    "np.dot(x1.numpy(), x2.numpy())"
   ]
  },
  {
   "cell_type": "markdown",
   "id": "5705fd89-d661-45ac-8ccd-9b1764869160",
   "metadata": {},
   "source": [
    "### 경사 하강"
   ]
  },
  {
   "cell_type": "code",
   "execution_count": 100,
   "id": "bf87d381-7492-47e8-b38f-e617474d6720",
   "metadata": {
    "tags": []
   },
   "outputs": [
    {
     "data": {
      "text/plain": [
       "[<matplotlib.lines.Line2D at 0x27c7fd10e20>]"
      ]
     },
     "execution_count": 100,
     "metadata": {},
     "output_type": "execute_result"
    },
    {
     "data": {
      "image/png": "[encoded data removed]",
      "text/plain": [
       "<Figure size 640x480 with 1 Axes>"
      ]
     },
     "metadata": {},
     "output_type": "display_data"
    }
   ],
   "source": [
    "x = np.arange(-5, 5, 0.1)\n",
    "f = lambda x: x**2\n",
    "\n",
    "dfdx = lambda x: 2*x\n",
    "def 수치미분(f, x):\n",
    "    h = 1e-4\n",
    "    return (f(x + h) - f(x)) / h\n",
    "\n",
    "def 경사하강(f, 초기값, 학습횟수, 학습률):\n",
    "    x = 초기값\n",
    "    x_history = [x]\n",
    "    for _ in range(학습횟수):\n",
    "        # x = x - dfdx(x) * 학습률\n",
    "        x = x - 수치미분(f, x) * 학습률\n",
    "        x_history.append(x)\n",
    "    return np.array(x_history)\n",
    "\n",
    "x_history = 경사하강(f, 초기값 = -4, 학습횟수 = 6, 학습률 = 0.1)\n",
    "plt.plot(x, f(x))\n",
    "plt.plot(x, dfdx(x), '--')\n",
    "plt.plot(x, 수치미분(f, x), '-.')\n",
    "\n",
    "plt.scatter(x_history, f(x_history), c='r')\n",
    "plt.plot(0, 0, 'ro')"
   ]
  },
  {
   "cell_type": "markdown",
   "id": "88dac0c7-1038-449a-9ddd-541983aa1ab4",
   "metadata": {
    "tags": []
   },
   "source": [
    "# 6교시"
   ]
  },
  {
   "cell_type": "code",
   "execution_count": 180,
   "id": "00b2f5c5-0c20-4574-9c83-242b92ec4161",
   "metadata": {
    "tags": []
   },
   "outputs": [],
   "source": [
    "x = tf.Variable(1.0)\n",
    "with tf.GradientTape() as tape:\n",
    "    y = x ** 2 "
   ]
  },
  {
   "cell_type": "code",
   "execution_count": 188,
   "id": "f1237672-0db7-47fa-831c-f47a6234da5f",
   "metadata": {
    "tags": []
   },
   "outputs": [
    {
     "name": "stdout",
     "output_type": "stream",
     "text": [
      "<tf.Variable 'Variable:0' shape=(100,) dtype=float32, numpy=\n",
      "array([-5.00000000e+00, -4.90000010e+00, -4.80000019e+00, -4.69999981e+00,\n",
      "       -4.59999990e+00, -4.50000000e+00, -4.40000010e+00, -4.30000019e+00,\n",
      "       -4.19999981e+00, -4.09999990e+00, -4.00000000e+00, -3.90000010e+00,\n",
      "       -3.79999995e+00, -3.70000005e+00, -3.59999990e+00, -3.50000000e+00,\n",
      "       -3.40000010e+00, -3.29999995e+00, -3.20000005e+00, -3.09999990e+00,\n",
      "       -3.00000000e+00, -2.89999986e+00, -2.79999995e+00, -2.70000005e+00,\n",
      "       -2.59999990e+00, -2.50000000e+00, -2.39999986e+00, -2.29999995e+00,\n",
      "       -2.20000005e+00, -2.09999990e+00, -2.00000000e+00, -1.89999998e+00,\n",
      "       -1.79999995e+00, -1.69999993e+00, -1.59999990e+00, -1.50000000e+00,\n",
      "       -1.39999998e+00, -1.29999995e+00, -1.19999993e+00, -1.09999990e+00,\n",
      "       -9.99999940e-01, -8.99999917e-01, -7.99999952e-01, -6.99999928e-01,\n",
      "       -5.99999905e-01, -4.99999940e-01, -3.99999917e-01, -2.99999923e-01,\n",
      "       -1.99999928e-01, -9.99999270e-02,  7.45058060e-08,  1.00000076e-01,\n",
      "        2.00000077e-01,  3.00000072e-01,  4.00000095e-01,  5.00000060e-01,\n",
      "        6.00000083e-01,  7.00000107e-01,  8.00000072e-01,  9.00000095e-01,\n",
      "        1.00000012e+00,  1.10000014e+00,  1.20000005e+00,  1.30000007e+00,\n",
      "        1.40000010e+00,  1.50000012e+00,  1.60000014e+00,  1.70000005e+00,\n",
      "        1.80000007e+00,  1.90000010e+00,  2.00000000e+00,  2.10000014e+00,\n",
      "        2.20000005e+00,  2.30000019e+00,  2.40000010e+00,  2.50000000e+00,\n",
      "        2.60000014e+00,  2.70000005e+00,  2.80000019e+00,  2.90000010e+00,\n",
      "        3.00000000e+00,  3.10000014e+00,  3.20000005e+00,  3.30000019e+00,\n",
      "        3.40000010e+00,  3.50000024e+00,  3.60000014e+00,  3.70000005e+00,\n",
      "        3.80000019e+00,  3.90000010e+00,  4.00000000e+00,  4.09999990e+00,\n",
      "        4.20000029e+00,  4.30000019e+00,  4.40000010e+00,  4.50000000e+00,\n",
      "        4.60000038e+00,  4.70000029e+00,  4.80000019e+00,  4.90000010e+00],\n",
      "      dtype=float32)>\n",
      "tf.Tensor(1.0, shape=(), dtype=float32)\n"
     ]
    }
   ],
   "source": [
    "f = lambda x: x**2\n",
    "\n",
    "def 경사하강(f, init_x, lr=0.01, step_num=100):\n",
    "    x = tf.Variable(init_x)\n",
    "    # x_history = [tf.constant(x)]\n",
    "    x_history = [tf.constant(x)]\n",
    "    for i in range(step_num):\n",
    "        # x = x - dfdx(x) * 학습률\n",
    "        with tf.GradientTape() as tape:\n",
    "            y = f(x)\n",
    "        grad = tape.gradient(y, x)    \n",
    "        x.assign_sub(lr * grad)\n",
    "        x_history.append(tf.constant(x))\n",
    "    return tf.constant([xi.numpy() for xi in x_history])\n",
    "\n",
    "x = tf.Variable(tf.range(-5, 5, 0.1))\n",
    "print(x)\n",
    "print(y)"
   ]
  },
  {
   "cell_type": "code",
   "execution_count": 191,
   "id": "5f887a70-543f-4339-82ba-36b249695202",
   "metadata": {
    "tags": []
   },
   "outputs": [
    {
     "data": {
      "image/png": "[encoded data removed]",
      "text/plain": [
       "<Figure size 640x480 with 1 Axes>"
      ]
     },
     "metadata": {},
     "output_type": "display_data"
    }
   ],
   "source": [
    "x = tf.Variable(tf.range(-5, 5, 0.1))\n",
    "f = lambda x: x**2\n",
    "\n",
    "def 경사하강(f, init_x, lr=0.01, step_num=100):\n",
    "    x = tf.Variable(init_x)\n",
    "    x_history = [tf.constant(x)]\n",
    "    for i in range(step_num):\n",
    "        # x = x - dfdx(x) * 학습률\n",
    "        with tf.GradientTape() as tape:\n",
    "            y = f(x)\n",
    "        grad = tape.gradient(y, x)    \n",
    "        x.assign_sub(lr * grad)\n",
    "        x_history.append(tf.constant(x))\n",
    "    return tf.constant([xi.numpy() for xi in x_history])\n",
    "\n",
    "x_history = 경사하강(f, init_x=tf.constant(-4.0), lr=0.1, step_num=100)\n",
    "\n",
    "plt.plot(x, f(x))\n",
    "plt.plot(x_history.numpy(), f(x_history).numpy(), 'ro')\n",
    "plt.plot(0, 0, 'ro')\n",
    "plt.show()"
   ]
  },
  {
   "cell_type": "code",
   "execution_count": 192,
   "id": "9ae7d8ec-5eb8-4e26-af8b-e0a8c92e0327",
   "metadata": {
    "tags": []
   },
   "outputs": [
    {
     "name": "stdout",
     "output_type": "stream",
     "text": [
      "[0.93471523] -0.20947310578088865\n"
     ]
    },
    {
     "data": {
      "text/plain": [
       "[<matplotlib.lines.Line2D at 0x27acaf58a60>]"
      ]
     },
     "execution_count": 192,
     "metadata": {},
     "output_type": "execute_result"
    },
    {
     "data": {
      "image/png": "[encoded data removed]",
      "text/plain": [
       "<Figure size 640x480 with 1 Axes>"
      ]
     },
     "metadata": {},
     "output_type": "display_data"
    }
   ],
   "source": [
    "from sklearn.linear_model import LinearRegression\n",
    "\n",
    "x = np.linspace(-5, 5, 100)\n",
    "noise = np.random.randn(len(x))\n",
    "y = x + noise\n",
    "\n",
    "X = x.reshape(-1, 1)\n",
    "linreg = LinearRegression().fit(X, y)\n",
    "w = linreg.coef_\n",
    "b = linreg.intercept_\n",
    "print(w, b)\n",
    "\n",
    "plt.scatter(x, y)\n",
    "plt.plot(x, linreg.predict(X), 'r--')"
   ]
  },
  {
   "cell_type": "code",
   "execution_count": 120,
   "id": "bf3baca1-412f-4059-a0b0-bb38a1433691",
   "metadata": {
    "tags": []
   },
   "outputs": [],
   "source": [
    "class TFLinearRegression:\n",
    "    def __int__(self):\n",
    "        self.w = None\n",
    "        self.b = None\n",
    "        \n",
    "    def predict(self, X):\n",
    "        return tf.matmul(X, tf.expand_dims(self.w, axis=-1)) + self.b\n",
    "    \n",
    "    def fit(self, X, y):\n",
    "        # todo\n",
    "        raise NotImplementedError"
   ]
  },
  {
   "cell_type": "code",
   "execution_count": 134,
   "id": "4eaa8aa7-79f6-450b-be4c-c879ea0f3237",
   "metadata": {
    "tags": []
   },
   "outputs": [],
   "source": [
    "tf_linreg = TFLinearRegression()\n",
    "tf_linreg.w = w\n",
    "tf_linreg.b = b\n",
    "assert np.all(tf_linreg.predict(X).numpy().flatten() == linreg.predict(X))"
   ]
  },
  {
   "cell_type": "code",
   "execution_count": 176,
   "id": "b301f5bf-d1f0-4250-9935-0e0e0f8ccaca",
   "metadata": {
    "tags": []
   },
   "outputs": [],
   "source": [
    "x = tf.Variable(1.0)\n",
    "\n",
    "with tf.GradientTape() as tape:\n",
    "    y = x ** 2"
   ]
  },
  {
   "cell_type": "code",
   "execution_count": 177,
   "id": "ae056a44-369d-4007-aff7-a48b98e46ec9",
   "metadata": {
    "tags": []
   },
   "outputs": [
    {
     "data": {
      "text/plain": [
       "<tf.Tensor: shape=(), dtype=float32, numpy=2.0>"
      ]
     },
     "execution_count": 177,
     "metadata": {},
     "output_type": "execute_result"
    }
   ],
   "source": [
    "dydx = tape.gradient(y, x)\n",
    "dydx"
   ]
  },
  {
   "cell_type": "markdown",
   "id": "35d352c4-8c1f-4c05-8434-17ec640be598",
   "metadata": {
    "tags": []
   },
   "source": [
    "# 7교시"
   ]
  },
  {
   "cell_type": "code",
   "execution_count": 227,
   "id": "7e1a9d92-9b47-4fb7-a3b9-34f82bb0a730",
   "metadata": {
    "tags": []
   },
   "outputs": [],
   "source": [
    "class TFLinearRegression:\n",
    "    def __int__(self):\n",
    "        self.w = None\n",
    "        self.b = None\n",
    "        \n",
    "    def predict(self, X):\n",
    "        return tf.matmul(X, tf.expand_dims(self.w, axis=-1)) + self.b\n",
    "    \n",
    "    def 경사산출(self, X, y):\n",
    "        with tf.GradientTape() as tape:\n",
    "            Y_pred = self.predict(X)\n",
    "            y_pred = tf.squeeze(Y_pred)\n",
    "            # 손실 산출\n",
    "            loss = tf.reduce_mean((y - y_pred) ** 2)\n",
    "            \n",
    "        dw, db = tape.gradient(loss, [self.w, self.b])\n",
    "        return dw, db\n",
    "    \n",
    "    def fit(self, X, y, 학습횟수, 학습률):\n",
    "        \"\"\" 학습 알고리즘 \"\"\"\n",
    "        # 1. 매개변수 초기화\n",
    "        self.w = tf.Variable(np.zeros(X.shape[-1]), dtype=tf.float32)\n",
    "        self.b = tf.Variable(0.0, dtype=tf.float32)     \n",
    "        # 2. 최적화(손실 산출 및 경사 하강)\n",
    "        for i in range(학습횟수):\n",
    "            dw, db = self.경사산출(X, y)\n",
    "            self.w.assign_sub(dw * 학습률)\n",
    "            self.b.assign_sub(db * 학습률)"
   ]
  },
  {
   "cell_type": "code",
   "execution_count": 228,
   "id": "50a2d7a5-d4b1-4306-a296-31a6c2c6531c",
   "metadata": {
    "tags": []
   },
   "outputs": [
    {
     "name": "stdout",
     "output_type": "stream",
     "text": [
      "w=[0.9929], b=0.18813510239124298\n"
     ]
    },
    {
     "data": {
      "text/plain": [
       "[<matplotlib.lines.Line2D at 0x27acbcb0e50>]"
      ]
     },
     "execution_count": 228,
     "metadata": {},
     "output_type": "execute_result"
    },
    {
     "data": {
      "image/png": "[encoded data removed]",
      "text/plain": [
       "<Figure size 640x480 with 1 Axes>"
      ]
     },
     "metadata": {},
     "output_type": "display_data"
    }
   ],
   "source": [
    "x = np.linspace(-5, 5, 100)\n",
    "noise = np.random.randn(len(x))\n",
    "y = x + noise\n",
    "\n",
    "X = tf.constant(x.reshape(-1, 1), dtype=tf.float32)\n",
    "                \n",
    "linreg = TFLinearRegression()\n",
    "linreg.fit(X, y, 학습횟수=10, 학습률=0.1)\n",
    "print(f'w={linreg.w.numpy()}, b={linreg.b.numpy()}')\n",
    "\n",
    "plt.scatter(x, y)\n",
    "plt.plot(x, linreg.predict(X), 'r--')"
   ]
  },
  {
   "cell_type": "markdown",
   "id": "1b9438a7-41c0-4403-9322-3bee20d8eb9e",
   "metadata": {},
   "source": [
    "### 케라스 구현"
   ]
  },
  {
   "cell_type": "code",
   "execution_count": 229,
   "id": "6cea876c-68f9-4573-a08c-024258684880",
   "metadata": {
    "tags": []
   },
   "outputs": [
    {
     "name": "stdout",
     "output_type": "stream",
     "text": [
      "Epoch 1/10\n",
      "4/4 [==============================] - 0s 4ms/step - loss: 0.9070\n",
      "Epoch 2/10\n",
      "4/4 [==============================] - 0s 7ms/step - loss: 2.3332\n",
      "Epoch 3/10\n",
      "4/4 [==============================] - 0s 7ms/step - loss: 1.1847\n",
      "Epoch 4/10\n",
      "4/4 [==============================] - 0s 5ms/step - loss: 1.1700\n",
      "Epoch 5/10\n",
      "4/4 [==============================] - 0s 6ms/step - loss: 1.1697\n",
      "Epoch 6/10\n",
      "4/4 [==============================] - 0s 3ms/step - loss: 0.9596\n",
      "Epoch 7/10\n",
      "4/4 [==============================] - 0s 7ms/step - loss: 1.1646\n",
      "Epoch 8/10\n",
      "4/4 [==============================] - 0s 7ms/step - loss: 1.1602\n",
      "Epoch 9/10\n",
      "4/4 [==============================] - 0s 3ms/step - loss: 0.8751\n",
      "Epoch 10/10\n",
      "4/4 [==============================] - 0s 5ms/step - loss: 0.8237\n"
     ]
    },
    {
     "data": {
      "text/plain": [
       "<keras.callbacks.History at 0x27acbcfbf10>"
      ]
     },
     "execution_count": 229,
     "metadata": {},
     "output_type": "execute_result"
    }
   ],
   "source": [
    "from tensorflow.keras import Sequential, layers\n",
    "\n",
    "linreg = Sequential([layers.Dense(1)])\n",
    "linreg.compile(loss='mse', optimizer=optimizers.SGD(learning_rate=0.1))\n",
    "linreg.fit(X, y, epochs=10)"
   ]
  },
  {
   "cell_type": "code",
   "execution_count": 230,
   "id": "0cff315c-bd07-40c1-b7b8-29ca3b4df07a",
   "metadata": {
    "tags": []
   },
   "outputs": [
    {
     "name": "stdout",
     "output_type": "stream",
     "text": [
      "4/4 [==============================] - 0s 3ms/step\n"
     ]
    },
    {
     "data": {
      "text/plain": [
       "[<matplotlib.lines.Line2D at 0x27acbe140a0>]"
      ]
     },
     "execution_count": 230,
     "metadata": {},
     "output_type": "execute_result"
    },
    {
     "data": {
      "image/png": "[encoded data removed]",
      "text/plain": [
       "<Figure size 640x480 with 1 Axes>"
      ]
     },
     "metadata": {},
     "output_type": "display_data"
    }
   ],
   "source": [
    "plt.scatter(x, y)\n",
    "plt.plot(x, linreg.predict(X), 'r--')"
   ]
  },
  {
   "cell_type": "markdown",
   "id": "c35ad905-c6bd-4629-99f8-83a2be3fcb6f",
   "metadata": {
    "tags": []
   },
   "source": [
    "### 신경망 간단한 모형 제시\n"
   ]
  },
  {
   "cell_type": "code",
   "execution_count": 154,
   "id": "322ed842-f024-4c09-bb39-12af067b35d8",
   "metadata": {
    "tags": []
   },
   "outputs": [],
   "source": [
    "from tensorflow.keras.datasets import fashion_mnist"
   ]
  },
  {
   "cell_type": "code",
   "execution_count": 167,
   "id": "9707b5b4-bfa2-42a8-8c6a-569f9594e5e9",
   "metadata": {
    "tags": []
   },
   "outputs": [],
   "source": [
    "(train_images, train_labels), (test_images, test_labels) = fashion_mnist.load_data()"
   ]
  },
  {
   "cell_type": "code",
   "execution_count": 168,
   "id": "044c3370-1c78-4b6f-a5ec-4a6194d39bc5",
   "metadata": {
    "tags": []
   },
   "outputs": [
    {
     "data": {
      "text/plain": [
       "(60000, 28, 28)"
      ]
     },
     "execution_count": 168,
     "metadata": {},
     "output_type": "execute_result"
    }
   ],
   "source": [
    "train_images.shape"
   ]
  },
  {
   "cell_type": "code",
   "execution_count": 169,
   "id": "f2d3c93c-a2f7-4995-b4aa-0b877191f505",
   "metadata": {
    "tags": []
   },
   "outputs": [
    {
     "data": {
      "text/plain": [
       "array([0, 1, 2, 3, 4, 5, 6, 7, 8, 9], dtype=uint8)"
      ]
     },
     "execution_count": 169,
     "metadata": {},
     "output_type": "execute_result"
    }
   ],
   "source": [
    "np.unique(train_labels)"
   ]
  },
  {
   "cell_type": "code",
   "execution_count": 170,
   "id": "66392cbf-ccba-4862-bbc2-a3fda5e0c1a8",
   "metadata": {
    "tags": []
   },
   "outputs": [
    {
     "data": {
      "text/plain": [
       "<matplotlib.image.AxesImage at 0x27c88e285b0>"
      ]
     },
     "execution_count": 170,
     "metadata": {},
     "output_type": "execute_result"
    },
    {
     "data": {
      "image/png": "[encoded data removed]",
      "text/plain": [
       "<Figure size 640x480 with 1 Axes>"
      ]
     },
     "metadata": {},
     "output_type": "display_data"
    }
   ],
   "source": [
    "plt.imshow(train_images[0])"
   ]
  },
  {
   "cell_type": "code",
   "execution_count": 231,
   "id": "d45525d0-846c-4981-a070-43d40b875d60",
   "metadata": {
    "tags": []
   },
   "outputs": [
    {
     "data": {
      "image/png": "[encoded data removed]",
      "text/plain": [
       "<Figure size 800x400 with 10 Axes>"
      ]
     },
     "metadata": {},
     "output_type": "display_data"
    }
   ],
   "source": [
    "fig, subplots = plt.subplots(2, 5, figsize=(8, 4))\n",
    "for 표본, 라벨, 그래프 in zip(train_images, train_labels, subplots.ravel()):\n",
    "    그래프.imshow(표본)\n",
    "    그래프.set_title(f'y={라벨}')\n",
    "    그래프.axis('off')"
   ]
  },
  {
   "cell_type": "code",
   "execution_count": 232,
   "id": "4313e0d4-94ec-4b0b-b49a-5116ee138b7d",
   "metadata": {
    "tags": []
   },
   "outputs": [
    {
     "name": "stdout",
     "output_type": "stream",
     "text": [
      "Epoch 1/10\n",
      "469/469 [==============================] - 2s 3ms/step - loss: 0.7245 - acc: 0.7461\n",
      "Epoch 2/10\n",
      "469/469 [==============================] - 1s 2ms/step - loss: 0.4914 - acc: 0.8259\n",
      "Epoch 3/10\n",
      "469/469 [==============================] - 1s 2ms/step - loss: 0.4453 - acc: 0.8429\n",
      "Epoch 4/10\n",
      "469/469 [==============================] - 1s 2ms/step - loss: 0.4196 - acc: 0.8498\n",
      "Epoch 5/10\n",
      "469/469 [==============================] - 1s 2ms/step - loss: 0.3970 - acc: 0.8575\n",
      "Epoch 6/10\n",
      "469/469 [==============================] - 1s 2ms/step - loss: 0.3869 - acc: 0.8622\n",
      "Epoch 7/10\n",
      "469/469 [==============================] - 1s 3ms/step - loss: 0.3731 - acc: 0.8668\n",
      "Epoch 8/10\n",
      "469/469 [==============================] - 1s 3ms/step - loss: 0.3629 - acc: 0.8701\n",
      "Epoch 9/10\n",
      "469/469 [==============================] - 1s 3ms/step - loss: 0.3562 - acc: 0.8725\n",
      "Epoch 10/10\n",
      "469/469 [==============================] - 1s 3ms/step - loss: 0.3484 - acc: 0.8748\n"
     ]
    },
    {
     "data": {
      "text/plain": [
       "<keras.callbacks.History at 0x27acd274070>"
      ]
     },
     "execution_count": 232,
     "metadata": {},
     "output_type": "execute_result"
    }
   ],
   "source": [
    "from tensorflow.keras import Sequential, layers, losses, optimizers\n",
    "\n",
    "의뷰분류기 = Sequential([\n",
    "    layers.Dense(32, activation='relu'),\n",
    "    layers.Dense(10, activation='softmax', name='output')\n",
    "])\n",
    "\n",
    "의뷰분류기.compile(\n",
    "    loss=losses.sparse_categorical_crossentropy,\n",
    "    optimizer=optimizers.SGD(learning_rate=0.1), \n",
    "    metrics=['acc']\n",
    ")\n",
    "\n",
    "X_train = 전처리(train_images)\n",
    "X_test = 전처리(test_images)\n",
    "\n",
    "의뷰분류기.fit(X_train, train_labels, epochs=10, batch_size=128)"
   ]
  },
  {
   "cell_type": "raw",
   "id": "0f95a667-d9ec-4874-a625-5e3a09a6e7c4",
   "metadata": {},
   "source": [
    "##\n",
    " "
   ]
  }
 ],
 "metadata": {
  "kernelspec": {
   "display_name": "pydeep",
   "language": "python",
   "name": "pydeep"
  },
  "language_info": {
   "codemirror_mode": {
    "name": "ipython",
    "version": 3
   },
   "file_extension": ".py",
   "mimetype": "text/x-python",
   "name": "python",
   "nbconvert_exporter": "python",
   "pygments_lexer": "ipython3",
   "version": "3.9.16"
  }
 },
 "nbformat": 4,
 "nbformat_minor": 5
}
