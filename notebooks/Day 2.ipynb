{
 "cells": [
  {
   "cell_type": "code",
   "execution_count": 2,
   "id": "a136858d-6ad7-451a-a34c-c15ab7258032",
   "metadata": {},
   "outputs": [],
   "source": [
    "import numpy as np\n",
    "import pandas as pd\n",
    "import matplotlib.pyplot as plt\n",
    "import tensorflow as tf"
   ]
  },
  {
   "cell_type": "markdown",
   "id": "43eade93-f649-4233-8ee4-65e5f2059afb",
   "metadata": {},
   "source": [
    "### 연산장치에서 GPU를 제외하여 CPU만 사용하도록 설정"
   ]
  },
  {
   "cell_type": "code",
   "execution_count": 3,
   "id": "3ff672d9-9dc0-4e1b-b0dd-ebed94df9136",
   "metadata": {
    "tags": []
   },
   "outputs": [],
   "source": [
    "tf.config.set_visible_devices([], device_type='GPU')"
   ]
  },
  {
   "cell_type": "code",
   "execution_count": 4,
   "id": "b3cf03a9-312b-4d4b-9788-db4aeed009a4",
   "metadata": {
    "tags": []
   },
   "outputs": [
    {
     "data": {
      "text/plain": [
       "[PhysicalDevice(name='/physical_device:CPU:0', device_type='CPU')]"
      ]
     },
     "execution_count": 4,
     "metadata": {},
     "output_type": "execute_result"
    }
   ],
   "source": [
    "# 위를 실행하지 않으면 결과는 모든 디바이스가 표시\n",
    "'''\n",
    "[PhysicalDevice(name='/physical_device:CPU:0', device_type='CPU'),\n",
    " PhysicalDevice(name='/physical_device:GPU:0', device_type='GPU')]\n",
    "'''\n",
    "# 위를 실행하면 CPU만 표시\n",
    "'''\n",
    "[PhysicalDevice(name='/physical_device:CPU:0', device_type='CPU')]\n",
    "'''\n",
    "tf.config.get_visible_devices()"
   ]
  },
  {
   "cell_type": "code",
   "execution_count": 5,
   "id": "91f6b024-ecdf-493f-83fd-5fd3f0fae252",
   "metadata": {
    "tags": []
   },
   "outputs": [],
   "source": [
    "a = tf.constant([1, 2, 3])"
   ]
  },
  {
   "cell_type": "markdown",
   "id": "b8171a16-b7bb-4348-b052-4b831b7698a6",
   "metadata": {
    "tags": []
   },
   "source": [
    "# Keras Model API"
   ]
  },
  {
   "cell_type": "code",
   "execution_count": 6,
   "id": "594c78ca-889d-4b7b-bc92-6f753f979f8e",
   "metadata": {
    "tags": []
   },
   "outputs": [],
   "source": [
    "from tensorflow.keras.datasets import fashion_mnist\n",
    "\n",
    "(X_train, y_train), (X_test, y_test) = fashion_mnist.load_data()"
   ]
  },
  {
   "cell_type": "code",
   "execution_count": 7,
   "id": "14eb0397-3c63-4b81-aa17-4fa56a37dcf9",
   "metadata": {
    "tags": []
   },
   "outputs": [],
   "source": [
    "def ppro(X, tg):\n",
    "    X = X.astype('float32')\n",
    "    X = X.reshape(-1, *tg)\n",
    "    X /= 255\n",
    "    return X"
   ]
  },
  {
   "cell_type": "code",
   "execution_count": 8,
   "id": "1e02ba88-16f8-499e-a99b-0d899d3687b8",
   "metadata": {
    "tags": []
   },
   "outputs": [
    {
     "data": {
      "text/plain": [
       "(60000, 784)"
      ]
     },
     "execution_count": 8,
     "metadata": {},
     "output_type": "execute_result"
    }
   ],
   "source": [
    "ppro(X_train, tg=(784, )).shape"
   ]
  },
  {
   "cell_type": "code",
   "execution_count": 9,
   "id": "05f6d041-d2fa-403a-b92c-a2ffe0f23d7a",
   "metadata": {
    "tags": []
   },
   "outputs": [],
   "source": [
    "from tensorflow import keras\n",
    "from tensorflow.keras import Sequential, layers\n",
    "\n",
    "model = keras.Sequential([\n",
    "    layers.Dense(64, activation='relu'), \n",
    "    layers.Dense(10, activation='softmax') \n",
    "])"
   ]
  },
  {
   "cell_type": "code",
   "execution_count": 10,
   "id": "391c512b-7258-4769-8236-56da67465291",
   "metadata": {
    "tags": []
   },
   "outputs": [],
   "source": [
    "## sequential model"
   ]
  },
  {
   "cell_type": "code",
   "execution_count": 11,
   "id": "c22b99d1-4cb9-45b7-b97c-8f3fae2dd2f6",
   "metadata": {
    "tags": []
   },
   "outputs": [],
   "source": [
    "model = Sequential()\n",
    "\n",
    "model.add(layers.Dense(64, activation='relu'))\n",
    "model.add(layers.Dense(10, activation='softmax'))"
   ]
  },
  {
   "cell_type": "code",
   "execution_count": 12,
   "id": "6d624f82-346a-474b-93fc-5314e9f420e2",
   "metadata": {
    "tags": []
   },
   "outputs": [
    {
     "name": "stdout",
     "output_type": "stream",
     "text": [
      "Model: \"sequential_1\"\n",
      "_________________________________________________________________\n",
      " Layer (type)                Output Shape              Param #   \n",
      "=================================================================\n",
      " dense_2 (Dense)             (None, 64)                50240     \n",
      "                                                                 \n",
      " dense_3 (Dense)             (None, 10)                650       \n",
      "                                                                 \n",
      "=================================================================\n",
      "Total params: 50,890\n",
      "Trainable params: 50,890\n",
      "Non-trainable params: 0\n",
      "_________________________________________________________________\n"
     ]
    }
   ],
   "source": [
    "model.build(input_shape=(None, 784))\n",
    "\n",
    "model.summary()"
   ]
  },
  {
   "cell_type": "code",
   "execution_count": 13,
   "id": "810ea03a-eeb5-44a3-b744-fef7e338099e",
   "metadata": {
    "tags": []
   },
   "outputs": [
    {
     "name": "stdout",
     "output_type": "stream",
     "text": [
      "Model: \"fashion_mnist\"\n",
      "_________________________________________________________________\n",
      " Layer (type)                Output Shape              Param #   \n",
      "=================================================================\n",
      " FC1 (Dense)                 (None, 64)                50240     \n",
      "                                                                 \n",
      " output (Dense)              (None, 10)                650       \n",
      "                                                                 \n",
      "=================================================================\n",
      "Total params: 50,890\n",
      "Trainable params: 50,890\n",
      "Non-trainable params: 0\n",
      "_________________________________________________________________\n"
     ]
    }
   ],
   "source": [
    "model = Sequential(name=\"fashion_mnist\")\n",
    "model.add(keras.Input(shape=(784, )))\n",
    "model.add(layers.Dense(64, activation='relu', name='FC1'))\n",
    "model.add(layers.Dense(10, activation='softmax', name='output'))\n",
    "model.summary()"
   ]
  },
  {
   "cell_type": "markdown",
   "id": "95ded95d-5483-4dc9-85ed-9ed88557f74b",
   "metadata": {},
   "source": [
    "## Funcxtional API"
   ]
  },
  {
   "cell_type": "code",
   "execution_count": 14,
   "id": "f79ac1b7-4e08-4f0e-bc1b-fec3cebac30e",
   "metadata": {
    "tags": []
   },
   "outputs": [
    {
     "name": "stdout",
     "output_type": "stream",
     "text": [
      "Model: \"model\"\n",
      "_________________________________________________________________\n",
      " Layer (type)                Output Shape              Param #   \n",
      "=================================================================\n",
      " mnist_input (InputLayer)    [(None, 784)]             0         \n",
      "                                                                 \n",
      " FC1 (Dense)                 (None, 64)                50240     \n",
      "                                                                 \n",
      " FC2 (Dense)                 (None, 64)                4160      \n",
      "                                                                 \n",
      " output (Dense)              (None, 10)                650       \n",
      "                                                                 \n",
      "=================================================================\n",
      "Total params: 55,050\n",
      "Trainable params: 55,050\n",
      "Non-trainable params: 0\n",
      "_________________________________________________________________\n"
     ]
    }
   ],
   "source": [
    "inputs = keras.Input(shape=(784, ), name=\"mnist_input\")\n",
    "fc1 = layers.Dense(64, activation='relu', name='FC1')\n",
    "fc2 = layers.Dense(64, activation='relu', name='FC2')\n",
    "outputs = layers.Dense(10, activation='softmax', name='output')\n",
    "\n",
    "features = fc1(inputs)\n",
    "features = fc2(features)\n",
    "outputs = outputs(features)\n",
    "\n",
    "model = keras.Model(inputs=inputs, outputs=outputs)\n",
    "model.summary()"
   ]
  },
  {
   "cell_type": "markdown",
   "id": "47d55c21-6bdb-47e9-9f75-44e3d997b236",
   "metadata": {
    "tags": []
   },
   "source": [
    "## 다중 입력, 다중 출력 모델 사례"
   ]
  },
  {
   "cell_type": "code",
   "execution_count": 15,
   "id": "08cc7969-e463-44b7-b8c2-0a9283ae063c",
   "metadata": {
    "tags": []
   },
   "outputs": [
    {
     "name": "stdout",
     "output_type": "stream",
     "text": [
      "Model: \"model_1\"\n",
      "__________________________________________________________________________________________________\n",
      " Layer (type)                   Output Shape         Param #     Connected to                     \n",
      "==================================================================================================\n",
      " title (InputLayer)             [(None, 10000)]      0           []                               \n",
      "                                                                                                  \n",
      " text_body (InputLayer)         [(None, 10000)]      0           []                               \n",
      "                                                                                                  \n",
      " tags (InputLayer)              [(None, 100)]        0           []                               \n",
      "                                                                                                  \n",
      " concatenate (Concatenate)      (None, 20100)        0           ['title[0][0]',                  \n",
      "                                                                  'text_body[0][0]',              \n",
      "                                                                  'tags[0][0]']                   \n",
      "                                                                                                  \n",
      " dense_4 (Dense)                (None, 64)           1286464     ['concatenate[0][0]']            \n",
      "                                                                                                  \n",
      " priority (Dense)               (None, 1)            65          ['dense_4[0][0]']                \n",
      "                                                                                                  \n",
      " department (Dense)             (None, 4)            260         ['dense_4[0][0]']                \n",
      "                                                                                                  \n",
      "==================================================================================================\n",
      "Total params: 1,286,789\n",
      "Trainable params: 1,286,789\n",
      "Non-trainable params: 0\n",
      "__________________________________________________________________________________________________\n"
     ]
    }
   ],
   "source": [
    "'''\n",
    "wc = 10000\n",
    "tc = 100\n",
    "dc = 4\n",
    "'''\n",
    "\n",
    "def create_model(wc, tc, dc):\n",
    "    title = keras.Input(shape=(wc, ), name='title')\n",
    "    text_body = keras.Input(shape=(wc, ), name='text_body')\n",
    "    tags = keras.Input(shape=(tc, ), name='tags')\n",
    "\n",
    "    features = layers.Concatenate()([title, text_body, tags])\n",
    "    features = layers.Dense(64, activation='relu')(features)\n",
    "\n",
    "    prot = layers.Dense(1, activation='sigmoid', name='priority')(features)\n",
    "    dept = layers.Dense(dc, activation='softmax', name='department')(features)\n",
    "\n",
    "    model = keras.Model(inputs=[title, text_body, tags], outputs=[prot, dept])\n",
    "    return model\n",
    "\n",
    "create_model(wc=10000, tc=100, dc=4).summary()"
   ]
  },
  {
   "cell_type": "code",
   "execution_count": 16,
   "id": "3344ad41-fcf4-460f-b774-b55c9c4bfd3d",
   "metadata": {
    "tags": []
   },
   "outputs": [
    {
     "data": {
      "text/plain": [
       "array([[0, 1, 0, 0, 1],\n",
       "       [1, 1, 1, 0, 0]])"
      ]
     },
     "execution_count": 16,
     "metadata": {},
     "output_type": "execute_result"
    }
   ],
   "source": [
    "np.random.randint(0, 2, size=(2, 5))"
   ]
  },
  {
   "cell_type": "code",
   "execution_count": 17,
   "id": "ddba7dc5-385e-4f94-aa56-c4eebff0e706",
   "metadata": {
    "tags": []
   },
   "outputs": [
    {
     "data": {
      "text/plain": [
       "array([[0.72306989, 0.5445587 , 0.10403795, 0.77866767, 0.16828318],\n",
       "       [0.44166143, 0.42500658, 0.52506918, 0.10362563, 0.13143113]])"
      ]
     },
     "execution_count": 17,
     "metadata": {},
     "output_type": "execute_result"
    }
   ],
   "source": [
    "np.random.random(size=(2, 5))  "
   ]
  },
  {
   "cell_type": "code",
   "execution_count": 18,
   "id": "c5522ff7-e340-4d00-a96b-887079afeb97",
   "metadata": {
    "tags": []
   },
   "outputs": [
    {
     "name": "stdout",
     "output_type": "stream",
     "text": [
      "40/40 [==============================] - 1s 10ms/step - loss: 29.4433 - priority_loss: 0.3252 - department_loss: 29.1181\n"
     ]
    },
    {
     "data": {
      "text/plain": [
       "<keras.callbacks.History at 0x1f22f7b9dc0>"
      ]
     },
     "execution_count": 18,
     "metadata": {},
     "output_type": "execute_result"
    }
   ],
   "source": [
    "from tensorflow.keras import losses\n",
    "\n",
    "# 모의 데이터(dummy data)\n",
    "n_samples = 1280\n",
    "wc = 10000\n",
    "tc = 100\n",
    "dc = 4\n",
    "\n",
    "# 입력 데이터\n",
    "title = np.random.randint(0, 2, size=(n_samples, wc))\n",
    "text_body = np.random.randint(0, 2, size=(n_samples, wc))\n",
    "tags = np.random.randint(0, 2, size=(n_samples, tc))\n",
    "\n",
    "# 출력 레이블\n",
    "prot = np.random.random(size=(n_samples,  1)) # 연속적 값 [0.0, 1.0)\n",
    "dept = np.random.randint(0, 2, size=(n_samples, dc))\n",
    "\n",
    "model = create_model(wc, tc, dc)\n",
    "\n",
    "#model.compile(optimizer='rmsprop', # optimizer=['rmsprop', 'adam'], 오류 발생\n",
    "#               loss=[losses.mean_squared_error, losses.categorical_crossentropy])\n",
    "#model.fit([title, text_body, tags], [prot, dept], epochs=1)\n",
    "\n",
    "model.compile(optimizer='rmsprop', # optimizer=['rmsprop', 'adam'], 오류 발생\n",
    "              loss={'priority': losses.mean_squared_error, \n",
    "                    'department': losses.categorical_crossentropy})\n",
    "\n",
    "model.fit({'title': title, 'tags': tags, 'text_body': text_body},\n",
    "          {'priority': prot, 'department': dept}, epochs=1)"
   ]
  },
  {
   "cell_type": "markdown",
   "id": "e91428a1-24c2-4e6f-abdb-bdccaaa54e28",
   "metadata": {},
   "source": [
    "#### 다음 설치\n",
    "- https://graphviz.gitlab.io/download/\n",
    "    - graphviz-7.1.0 (64-bit) EXE installer [sha256]\n",
    "- pydot pip 설치\n",
    "    - pip install pydot\n",
    "\n",
    "#### pygraphviz는 무엇?\n",
    "- https://pygraphviz.github.io/documentation/stable/install.html"
   ]
  },
  {
   "cell_type": "code",
   "execution_count": 19,
   "id": "8bee0671-ab26-4092-93e5-596061e35e20",
   "metadata": {
    "tags": []
   },
   "outputs": [
    {
     "data": {
      "image/png": "[encoded data removed]",
      "text/plain": [
       "<IPython.core.display.Image object>"
      ]
     },
     "execution_count": 19,
     "metadata": {},
     "output_type": "execute_result"
    }
   ],
   "source": [
    "keras.utils.plot_model(model)"
   ]
  },
  {
   "cell_type": "code",
   "execution_count": 20,
   "id": "0f879623-54b3-4004-a63f-3499878d296b",
   "metadata": {
    "tags": []
   },
   "outputs": [
    {
     "data": {
      "image/png": "[encoded data removed]",
      "text/plain": [
       "<IPython.core.display.Image object>"
      ]
     },
     "execution_count": 20,
     "metadata": {},
     "output_type": "execute_result"
    }
   ],
   "source": [
    "keras.utils.plot_model(model, to_file='model.png', show_shapes=True)"
   ]
  },
  {
   "cell_type": "code",
   "execution_count": 21,
   "id": "0774e8ae-901f-4bdc-897d-189565db4dbb",
   "metadata": {},
   "outputs": [
    {
     "data": {
      "text/plain": [
       "[<keras.engine.input_layer.InputLayer at 0x1f22f7a5070>,\n",
       " <keras.engine.input_layer.InputLayer at 0x1f2017c8670>,\n",
       " <keras.engine.input_layer.InputLayer at 0x1f229365e20>,\n",
       " <keras.layers.merging.concatenate.Concatenate at 0x1f22f7b9f10>,\n",
       " <keras.layers.core.dense.Dense at 0x1f22f7b9b50>,\n",
       " <keras.layers.core.dense.Dense at 0x1f22f7b65b0>,\n",
       " <keras.layers.core.dense.Dense at 0x1f22f7c55b0>]"
      ]
     },
     "execution_count": 21,
     "metadata": {},
     "output_type": "execute_result"
    }
   ],
   "source": [
    "model.layers"
   ]
  },
  {
   "cell_type": "code",
   "execution_count": 22,
   "id": "3f63043f-c4fd-4064-8f16-1f551f3920e4",
   "metadata": {
    "tags": []
   },
   "outputs": [
    {
     "data": {
      "text/plain": [
       "<keras.layers.merging.concatenate.Concatenate at 0x1f22f7b9f10>"
      ]
     },
     "execution_count": 22,
     "metadata": {},
     "output_type": "execute_result"
    }
   ],
   "source": [
    "model.layers[3]"
   ]
  },
  {
   "cell_type": "code",
   "execution_count": 23,
   "id": "935526c2-e326-4e1d-a504-78270be2ed58",
   "metadata": {
    "tags": []
   },
   "outputs": [
    {
     "data": {
      "text/plain": [
       "[<KerasTensor: shape=(None, 10000) dtype=float32 (created by layer 'title')>,\n",
       " <KerasTensor: shape=(None, 10000) dtype=float32 (created by layer 'text_body')>,\n",
       " <KerasTensor: shape=(None, 100) dtype=float32 (created by layer 'tags')>]"
      ]
     },
     "execution_count": 23,
     "metadata": {},
     "output_type": "execute_result"
    }
   ],
   "source": [
    "model.layers[3].input"
   ]
  },
  {
   "cell_type": "code",
   "execution_count": 24,
   "id": "99b428ea-3606-4d0f-ac10-75d6ed254a8e",
   "metadata": {
    "tags": []
   },
   "outputs": [
    {
     "data": {
      "text/plain": [
       "<KerasTensor: shape=(None, 20100) dtype=float32 (created by layer 'concatenate_1')>"
      ]
     },
     "execution_count": 24,
     "metadata": {},
     "output_type": "execute_result"
    }
   ],
   "source": [
    "model.layers[3].output"
   ]
  },
  {
   "cell_type": "code",
   "execution_count": 25,
   "id": "76a4be2f-8156-4aa6-a534-9ff092933d42",
   "metadata": {
    "tags": []
   },
   "outputs": [
    {
     "data": {
      "text/plain": [
       "<KerasTensor: shape=(None, 20100) dtype=float32 (created by layer 'concatenate_1')>"
      ]
     },
     "execution_count": 25,
     "metadata": {},
     "output_type": "execute_result"
    }
   ],
   "source": [
    "model.layers[3].output"
   ]
  },
  {
   "cell_type": "code",
   "execution_count": 27,
   "id": "62fcdf56-9b16-4230-80b6-8bf89e091212",
   "metadata": {
    "tags": []
   },
   "outputs": [
    {
     "data": {
      "image/png": "[encoded data removed]",
      "text/plain": [
       "<IPython.core.display.Image object>"
      ]
     },
     "execution_count": 27,
     "metadata": {},
     "output_type": "execute_result"
    }
   ],
   "source": [
    "model = create_model(wc=10000, tc=100, dc=4)\n",
    "\n",
    "features = model.layers[4].output\n",
    "difficulty = layers.Dense(3, activation='softmax', name='difficulty')(features)\n",
    "new_outputs = model.outputs + [difficulty]\n",
    "new_model = keras.Model(inputs=model.inputs, outputs=new_outputs)\n",
    "\n",
    "keras.utils.plot_model(new_model)"
   ]
  },
  {
   "cell_type": "code",
   "execution_count": 57,
   "id": "1b571b87-76d8-4114-994b-a696ba878d6a",
   "metadata": {
    "tags": []
   },
   "outputs": [
    {
     "ename": "ValueError",
     "evalue": "Graph disconnected: cannot obtain value for tensor KerasTensor(type_spec=TensorSpec(shape=(None, 10000), dtype=tf.float32, name='title'), name='title', description=\"created by layer 'title'\") at layer \"concatenate_10\". The following previous layers were accessed without issue: []",
     "output_type": "error",
     "traceback": [
      "\u001b[1;31m---------------------------------------------------------------------------\u001b[0m",
      "\u001b[1;31mValueError\u001b[0m                                Traceback (most recent call last)",
      "Cell \u001b[1;32mIn[57], line 16\u001b[0m\n\u001b[0;32m     14\u001b[0m model\u001b[38;5;241m.\u001b[39mlayers\n\u001b[0;32m     15\u001b[0m features \u001b[38;5;241m=\u001b[39m model\u001b[38;5;241m.\u001b[39mlayers[\u001b[38;5;241m4\u001b[39m]\u001b[38;5;241m.\u001b[39moutput\n\u001b[1;32m---> 16\u001b[0m new_model \u001b[38;5;241m=\u001b[39m \u001b[43mcreate_new_model\u001b[49m\u001b[43m(\u001b[49m\u001b[43mfeatures\u001b[49m\u001b[43m,\u001b[49m\u001b[43m \u001b[49m\u001b[43mwc\u001b[49m\u001b[38;5;241;43m=\u001b[39;49m\u001b[38;5;241;43m10000\u001b[39;49m\u001b[43m,\u001b[49m\u001b[43m \u001b[49m\u001b[43mtc\u001b[49m\u001b[38;5;241;43m=\u001b[39;49m\u001b[38;5;241;43m100\u001b[39;49m\u001b[43m,\u001b[49m\u001b[43m \u001b[49m\u001b[43mdc\u001b[49m\u001b[38;5;241;43m=\u001b[39;49m\u001b[38;5;241;43m4\u001b[39;49m\u001b[43m)\u001b[49m\n",
      "Cell \u001b[1;32mIn[57], line 10\u001b[0m, in \u001b[0;36mcreate_new_model\u001b[1;34m(features, wc, tc, dc)\u001b[0m\n\u001b[0;32m      7\u001b[0m dept \u001b[38;5;241m=\u001b[39m layers\u001b[38;5;241m.\u001b[39mDense(dc, activation\u001b[38;5;241m=\u001b[39m\u001b[38;5;124m'\u001b[39m\u001b[38;5;124msoftmax\u001b[39m\u001b[38;5;124m'\u001b[39m, name\u001b[38;5;241m=\u001b[39m\u001b[38;5;124m'\u001b[39m\u001b[38;5;124mdepartment\u001b[39m\u001b[38;5;124m'\u001b[39m)(features)\n\u001b[0;32m      8\u001b[0m difficulty \u001b[38;5;241m=\u001b[39m layers\u001b[38;5;241m.\u001b[39mDense(\u001b[38;5;241m1\u001b[39m, activation\u001b[38;5;241m=\u001b[39m\u001b[38;5;124m'\u001b[39m\u001b[38;5;124msoftmax\u001b[39m\u001b[38;5;124m'\u001b[39m, name\u001b[38;5;241m=\u001b[39m\u001b[38;5;124m'\u001b[39m\u001b[38;5;124mdifficulty\u001b[39m\u001b[38;5;124m'\u001b[39m)(features)\n\u001b[1;32m---> 10\u001b[0m model \u001b[38;5;241m=\u001b[39m \u001b[43mkeras\u001b[49m\u001b[38;5;241;43m.\u001b[39;49m\u001b[43mModel\u001b[49m\u001b[43m(\u001b[49m\u001b[43minputs\u001b[49m\u001b[38;5;241;43m=\u001b[39;49m\u001b[43m[\u001b[49m\u001b[43mtitle\u001b[49m\u001b[43m,\u001b[49m\u001b[43m \u001b[49m\u001b[43mtext_body\u001b[49m\u001b[43m,\u001b[49m\u001b[43m \u001b[49m\u001b[43mtags\u001b[49m\u001b[43m]\u001b[49m\u001b[43m,\u001b[49m\u001b[43m \u001b[49m\u001b[43moutputs\u001b[49m\u001b[38;5;241;43m=\u001b[39;49m\u001b[43m[\u001b[49m\u001b[43mprot\u001b[49m\u001b[43m,\u001b[49m\u001b[43m \u001b[49m\u001b[43mdept\u001b[49m\u001b[43m,\u001b[49m\u001b[43m \u001b[49m\u001b[43mdifficulty\u001b[49m\u001b[43m]\u001b[49m\u001b[43m)\u001b[49m\n\u001b[0;32m     11\u001b[0m \u001b[38;5;28;01mreturn\u001b[39;00m model\n",
      "File \u001b[1;32m~\\.conda\\envs\\pydeep\\lib\\site-packages\\tensorflow\\python\\training\\tracking\\base.py:587\u001b[0m, in \u001b[0;36mno_automatic_dependency_tracking.<locals>._method_wrapper\u001b[1;34m(self, *args, **kwargs)\u001b[0m\n\u001b[0;32m    585\u001b[0m \u001b[38;5;28mself\u001b[39m\u001b[38;5;241m.\u001b[39m_self_setattr_tracking \u001b[38;5;241m=\u001b[39m \u001b[38;5;28;01mFalse\u001b[39;00m  \u001b[38;5;66;03m# pylint: disable=protected-access\u001b[39;00m\n\u001b[0;32m    586\u001b[0m \u001b[38;5;28;01mtry\u001b[39;00m:\n\u001b[1;32m--> 587\u001b[0m   result \u001b[38;5;241m=\u001b[39m method(\u001b[38;5;28mself\u001b[39m, \u001b[38;5;241m*\u001b[39margs, \u001b[38;5;241m*\u001b[39m\u001b[38;5;241m*\u001b[39mkwargs)\n\u001b[0;32m    588\u001b[0m \u001b[38;5;28;01mfinally\u001b[39;00m:\n\u001b[0;32m    589\u001b[0m   \u001b[38;5;28mself\u001b[39m\u001b[38;5;241m.\u001b[39m_self_setattr_tracking \u001b[38;5;241m=\u001b[39m previous_value  \u001b[38;5;66;03m# pylint: disable=protected-access\u001b[39;00m\n",
      "File \u001b[1;32m~\\.conda\\envs\\pydeep\\lib\\site-packages\\keras\\engine\\functional.py:148\u001b[0m, in \u001b[0;36mFunctional.__init__\u001b[1;34m(self, inputs, outputs, name, trainable, **kwargs)\u001b[0m\n\u001b[0;32m    145\u001b[0m   \u001b[38;5;28;01mif\u001b[39;00m \u001b[38;5;129;01mnot\u001b[39;00m \u001b[38;5;28mall\u001b[39m([functional_utils\u001b[38;5;241m.\u001b[39mis_input_keras_tensor(t)\n\u001b[0;32m    146\u001b[0m               \u001b[38;5;28;01mfor\u001b[39;00m t \u001b[38;5;129;01min\u001b[39;00m tf\u001b[38;5;241m.\u001b[39mnest\u001b[38;5;241m.\u001b[39mflatten(inputs)]):\n\u001b[0;32m    147\u001b[0m     inputs, outputs \u001b[38;5;241m=\u001b[39m functional_utils\u001b[38;5;241m.\u001b[39mclone_graph_nodes(inputs, outputs)\n\u001b[1;32m--> 148\u001b[0m \u001b[38;5;28;43mself\u001b[39;49m\u001b[38;5;241;43m.\u001b[39;49m\u001b[43m_init_graph_network\u001b[49m\u001b[43m(\u001b[49m\u001b[43minputs\u001b[49m\u001b[43m,\u001b[49m\u001b[43m \u001b[49m\u001b[43moutputs\u001b[49m\u001b[43m)\u001b[49m\n",
      "File \u001b[1;32m~\\.conda\\envs\\pydeep\\lib\\site-packages\\tensorflow\\python\\training\\tracking\\base.py:587\u001b[0m, in \u001b[0;36mno_automatic_dependency_tracking.<locals>._method_wrapper\u001b[1;34m(self, *args, **kwargs)\u001b[0m\n\u001b[0;32m    585\u001b[0m \u001b[38;5;28mself\u001b[39m\u001b[38;5;241m.\u001b[39m_self_setattr_tracking \u001b[38;5;241m=\u001b[39m \u001b[38;5;28;01mFalse\u001b[39;00m  \u001b[38;5;66;03m# pylint: disable=protected-access\u001b[39;00m\n\u001b[0;32m    586\u001b[0m \u001b[38;5;28;01mtry\u001b[39;00m:\n\u001b[1;32m--> 587\u001b[0m   result \u001b[38;5;241m=\u001b[39m method(\u001b[38;5;28mself\u001b[39m, \u001b[38;5;241m*\u001b[39margs, \u001b[38;5;241m*\u001b[39m\u001b[38;5;241m*\u001b[39mkwargs)\n\u001b[0;32m    588\u001b[0m \u001b[38;5;28;01mfinally\u001b[39;00m:\n\u001b[0;32m    589\u001b[0m   \u001b[38;5;28mself\u001b[39m\u001b[38;5;241m.\u001b[39m_self_setattr_tracking \u001b[38;5;241m=\u001b[39m previous_value  \u001b[38;5;66;03m# pylint: disable=protected-access\u001b[39;00m\n",
      "File \u001b[1;32m~\\.conda\\envs\\pydeep\\lib\\site-packages\\keras\\engine\\functional.py:232\u001b[0m, in \u001b[0;36mFunctional._init_graph_network\u001b[1;34m(self, inputs, outputs)\u001b[0m\n\u001b[0;32m    229\u001b[0m   \u001b[38;5;28mself\u001b[39m\u001b[38;5;241m.\u001b[39m_input_coordinates\u001b[38;5;241m.\u001b[39mappend((layer, node_index, tensor_index))\n\u001b[0;32m    231\u001b[0m \u001b[38;5;66;03m# Keep track of the network's nodes and layers.\u001b[39;00m\n\u001b[1;32m--> 232\u001b[0m nodes, nodes_by_depth, layers, _ \u001b[38;5;241m=\u001b[39m \u001b[43m_map_graph_network\u001b[49m\u001b[43m(\u001b[49m\n\u001b[0;32m    233\u001b[0m \u001b[43m    \u001b[49m\u001b[38;5;28;43mself\u001b[39;49m\u001b[38;5;241;43m.\u001b[39;49m\u001b[43minputs\u001b[49m\u001b[43m,\u001b[49m\u001b[43m \u001b[49m\u001b[38;5;28;43mself\u001b[39;49m\u001b[38;5;241;43m.\u001b[39;49m\u001b[43moutputs\u001b[49m\u001b[43m)\u001b[49m\n\u001b[0;32m    234\u001b[0m \u001b[38;5;28mself\u001b[39m\u001b[38;5;241m.\u001b[39m_network_nodes \u001b[38;5;241m=\u001b[39m nodes\n\u001b[0;32m    235\u001b[0m \u001b[38;5;28mself\u001b[39m\u001b[38;5;241m.\u001b[39m_nodes_by_depth \u001b[38;5;241m=\u001b[39m nodes_by_depth\n",
      "File \u001b[1;32m~\\.conda\\envs\\pydeep\\lib\\site-packages\\keras\\engine\\functional.py:998\u001b[0m, in \u001b[0;36m_map_graph_network\u001b[1;34m(inputs, outputs)\u001b[0m\n\u001b[0;32m    996\u001b[0m \u001b[38;5;28;01mfor\u001b[39;00m x \u001b[38;5;129;01min\u001b[39;00m tf\u001b[38;5;241m.\u001b[39mnest\u001b[38;5;241m.\u001b[39mflatten(node\u001b[38;5;241m.\u001b[39mkeras_inputs):\n\u001b[0;32m    997\u001b[0m   \u001b[38;5;28;01mif\u001b[39;00m \u001b[38;5;28mid\u001b[39m(x) \u001b[38;5;129;01mnot\u001b[39;00m \u001b[38;5;129;01min\u001b[39;00m computable_tensors:\n\u001b[1;32m--> 998\u001b[0m     \u001b[38;5;28;01mraise\u001b[39;00m \u001b[38;5;167;01mValueError\u001b[39;00m(\n\u001b[0;32m    999\u001b[0m         \u001b[38;5;124mf\u001b[39m\u001b[38;5;124m'\u001b[39m\u001b[38;5;124mGraph disconnected: cannot obtain value for tensor \u001b[39m\u001b[38;5;132;01m{\u001b[39;00mx\u001b[38;5;132;01m}\u001b[39;00m\u001b[38;5;124m \u001b[39m\u001b[38;5;124m'\u001b[39m\n\u001b[0;32m   1000\u001b[0m         \u001b[38;5;124mf\u001b[39m\u001b[38;5;124m'\u001b[39m\u001b[38;5;124mat layer \u001b[39m\u001b[38;5;124m\"\u001b[39m\u001b[38;5;132;01m{\u001b[39;00mlayer\u001b[38;5;241m.\u001b[39mname\u001b[38;5;132;01m}\u001b[39;00m\u001b[38;5;124m\"\u001b[39m\u001b[38;5;124m. The following previous layers \u001b[39m\u001b[38;5;124m'\u001b[39m\n\u001b[0;32m   1001\u001b[0m         \u001b[38;5;124mf\u001b[39m\u001b[38;5;124m'\u001b[39m\u001b[38;5;124mwere accessed without issue: \u001b[39m\u001b[38;5;132;01m{\u001b[39;00mlayers_with_complete_input\u001b[38;5;132;01m}\u001b[39;00m\u001b[38;5;124m'\u001b[39m)\n\u001b[0;32m   1002\u001b[0m \u001b[38;5;28;01mfor\u001b[39;00m x \u001b[38;5;129;01min\u001b[39;00m tf\u001b[38;5;241m.\u001b[39mnest\u001b[38;5;241m.\u001b[39mflatten(node\u001b[38;5;241m.\u001b[39moutputs):\n\u001b[0;32m   1003\u001b[0m   computable_tensors\u001b[38;5;241m.\u001b[39madd(\u001b[38;5;28mid\u001b[39m(x))\n",
      "\u001b[1;31mValueError\u001b[0m: Graph disconnected: cannot obtain value for tensor KerasTensor(type_spec=TensorSpec(shape=(None, 10000), dtype=tf.float32, name='title'), name='title', description=\"created by layer 'title'\") at layer \"concatenate_10\". The following previous layers were accessed without issue: []"
     ]
    }
   ],
   "source": [
    "def create_new_model(features, wc, tc, dc):\n",
    "    title = keras.Input(shape=(wc, ), name='title')\n",
    "    text_body = keras.Input(shape=(wc, ), name='text_body')\n",
    "    tags = keras.Input(shape=(tc, ), name='tags')\n",
    "\n",
    "    prot = layers.Dense(1, activation='sigmoid', name='priority')(features)\n",
    "    dept = layers.Dense(dc, activation='softmax', name='department')(features)\n",
    "    difficulty = layers.Dense(1, activation='softmax', name='difficulty')(features)\n",
    "\n",
    "    model = keras.Model(inputs=[title, text_body, tags], outputs=[prot, dept, difficulty])\n",
    "    return model\n",
    "\n",
    "model = create_model(wc=10000, tc=100, dc=4)\n",
    "model.layers\n",
    "features = model.layers[4].output\n",
    "new_model = create_new_model(features, wc=10000, tc=100, dc=4)"
   ]
  },
  {
   "cell_type": "code",
   "execution_count": 33,
   "id": "6f0ab563-c2be-4541-9848-e5ff6f4a036e",
   "metadata": {
    "tags": []
   },
   "outputs": [
    {
     "data": {
      "image/png": "[encoded data removed]",
      "text/plain": [
       "<IPython.core.display.Image object>"
      ]
     },
     "execution_count": 33,
     "metadata": {},
     "output_type": "execute_result"
    }
   ],
   "source": [
    "keras.utils.plot_model(new_model, show_shapes=True)"
   ]
  },
  {
   "cell_type": "markdown",
   "id": "02064ec0-355d-4e41-ad3e-d29eda2b6b7a",
   "metadata": {
    "tags": []
   },
   "source": [
    "## Vision Deep Learning"
   ]
  },
  {
   "cell_type": "code",
   "execution_count": 30,
   "id": "b6ea0b26-da02-4378-a4df-cca0b777192e",
   "metadata": {
    "tags": []
   },
   "outputs": [],
   "source": [
    "from tensorflow.keras.datasets import fashion_mnist\n",
    "\n",
    "(X_train, y_train), (X_test, y_test) = fashion_mnist.load_data()"
   ]
  },
  {
   "cell_type": "code",
   "execution_count": 31,
   "id": "bd2f2a8a-14a3-479b-b2c3-cadafde1a6cd",
   "metadata": {
    "tags": []
   },
   "outputs": [],
   "source": [
    "def ppro(X, tg):\n",
    "    X = X.astype('float32')\n",
    "    X = X.reshape(-1, *tg)\n",
    "    X /= 255\n",
    "    return X"
   ]
  },
  {
   "cell_type": "code",
   "execution_count": 32,
   "id": "fcaf4c46-7936-4e35-9b58-215fc842d0b3",
   "metadata": {
    "tags": []
   },
   "outputs": [
    {
     "data": {
      "text/plain": [
       "(60000, 784)"
      ]
     },
     "execution_count": 32,
     "metadata": {},
     "output_type": "execute_result"
    }
   ],
   "source": [
    "ppro(X_train, tg=(784, )).shape"
   ]
  },
  {
   "cell_type": "code",
   "execution_count": 33,
   "id": "1210461e-8150-46d5-bcaa-a79104afa0f6",
   "metadata": {
    "tags": []
   },
   "outputs": [
    {
     "data": {
      "text/plain": [
       "array([0, 1, 2, 3, 4, 5, 6, 7, 8, 9], dtype=uint8)"
      ]
     },
     "execution_count": 33,
     "metadata": {},
     "output_type": "execute_result"
    }
   ],
   "source": [
    "np.unique(y_train)"
   ]
  },
  {
   "cell_type": "code",
   "execution_count": 34,
   "id": "c77b1ed3-ce70-40ce-b622-211b506c1864",
   "metadata": {
    "tags": []
   },
   "outputs": [],
   "source": [
    "def create_MLP(hidden_units, input_shape=None):\n",
    "    model = Sequential()\n",
    "    if input_shape:\n",
    "        model.add(keras.Input(shape=input_shape))\n",
    "    for units in hidden_units:\n",
    "        model.add(layers.Dense(units, activation='relu'))\n",
    "    return model    "
   ]
  },
  {
   "cell_type": "code",
   "execution_count": 35,
   "id": "e0727f94-0933-4dcc-af98-5b22d839c5ed",
   "metadata": {
    "tags": []
   },
   "outputs": [
    {
     "data": {
      "text/plain": [
       "array([[0., 0., 0., 0., 0., 0., 0., 0., 0., 1.],\n",
       "       [1., 0., 0., 0., 0., 0., 0., 0., 0., 0.],\n",
       "       [1., 0., 0., 0., 0., 0., 0., 0., 0., 0.],\n",
       "       [0., 0., 0., 1., 0., 0., 0., 0., 0., 0.],\n",
       "       [1., 0., 0., 0., 0., 0., 0., 0., 0., 0.]])"
      ]
     },
     "execution_count": 35,
     "metadata": {},
     "output_type": "execute_result"
    }
   ],
   "source": [
    "np.eye(10)[y_train][:5]"
   ]
  },
  {
   "cell_type": "code",
   "execution_count": 36,
   "id": "485e4a6b-f320-485e-b53a-c349086a355d",
   "metadata": {
    "tags": []
   },
   "outputs": [
    {
     "name": "stdout",
     "output_type": "stream",
     "text": [
      "Model: \"sequential_2\"\n",
      "_________________________________________________________________\n",
      " Layer (type)                Output Shape              Param #   \n",
      "=================================================================\n",
      " dense_8 (Dense)             (None, 64)                50240     \n",
      "                                                                 \n",
      " dense_9 (Dense)             (None, 128)               8320      \n",
      "                                                                 \n",
      " dense_10 (Dense)            (None, 10)                1290      \n",
      "                                                                 \n",
      "=================================================================\n",
      "Total params: 59,850\n",
      "Trainable params: 59,850\n",
      "Non-trainable params: 0\n",
      "_________________________________________________________________\n"
     ]
    }
   ],
   "source": [
    "mlp = create_MLP(hidden_units=[64, 128], input_shape=(784, ))\n",
    "mlp.add(layers.Dense(10, activation='softmax'))\n",
    "mlp.summary()"
   ]
  },
  {
   "cell_type": "code",
   "execution_count": 37,
   "id": "4ad6057e-3987-4ac0-bf7d-9d66a0537850",
   "metadata": {
    "tags": []
   },
   "outputs": [
    {
     "name": "stdout",
     "output_type": "stream",
     "text": [
      "Model: \"sequential_3\"\n",
      "_________________________________________________________________\n",
      " Layer (type)                Output Shape              Param #   \n",
      "=================================================================\n",
      " dense_11 (Dense)            (None, 16)                12560     \n",
      "                                                                 \n",
      " dense_12 (Dense)            (None, 10)                170       \n",
      "                                                                 \n",
      "=================================================================\n",
      "Total params: 12,730\n",
      "Trainable params: 12,730\n",
      "Non-trainable params: 0\n",
      "_________________________________________________________________\n",
      "Epoch 1/50\n",
      "375/375 [==============================] - 1s 2ms/step - loss: 0.7995 - acc: 0.7385 - val_loss: 0.5447 - val_acc: 0.8133\n",
      "Epoch 2/50\n",
      "375/375 [==============================] - 1s 1ms/step - loss: 0.5075 - acc: 0.8276 - val_loss: 0.4781 - val_acc: 0.8352\n",
      "Epoch 3/50\n",
      "375/375 [==============================] - 1s 1ms/step - loss: 0.4631 - acc: 0.8424 - val_loss: 0.4531 - val_acc: 0.8467\n",
      "Epoch 4/50\n",
      "375/375 [==============================] - 1s 1ms/step - loss: 0.4411 - acc: 0.8486 - val_loss: 0.4500 - val_acc: 0.8418\n",
      "Epoch 5/50\n",
      "375/375 [==============================] - 1s 1ms/step - loss: 0.4221 - acc: 0.8540 - val_loss: 0.4275 - val_acc: 0.8528\n",
      "Epoch 6/50\n",
      "375/375 [==============================] - 1s 1ms/step - loss: 0.4115 - acc: 0.8589 - val_loss: 0.4352 - val_acc: 0.8478\n",
      "Epoch 7/50\n",
      "375/375 [==============================] - 1s 1ms/step - loss: 0.3998 - acc: 0.8609 - val_loss: 0.4142 - val_acc: 0.8558\n",
      "Epoch 8/50\n",
      "375/375 [==============================] - 1s 1ms/step - loss: 0.3921 - acc: 0.8620 - val_loss: 0.4119 - val_acc: 0.8557\n",
      "Epoch 9/50\n",
      "375/375 [==============================] - 1s 1ms/step - loss: 0.3855 - acc: 0.8642 - val_loss: 0.4074 - val_acc: 0.8553\n",
      "Epoch 10/50\n",
      "375/375 [==============================] - 1s 1ms/step - loss: 0.3800 - acc: 0.8660 - val_loss: 0.4005 - val_acc: 0.8590\n",
      "Epoch 11/50\n",
      "375/375 [==============================] - 1s 2ms/step - loss: 0.3733 - acc: 0.8688 - val_loss: 0.4014 - val_acc: 0.8598\n",
      "Epoch 12/50\n",
      "375/375 [==============================] - 1s 1ms/step - loss: 0.3707 - acc: 0.8691 - val_loss: 0.4040 - val_acc: 0.8594\n",
      "Epoch 13/50\n",
      "375/375 [==============================] - 1s 1ms/step - loss: 0.3638 - acc: 0.8717 - val_loss: 0.3910 - val_acc: 0.8629\n",
      "Epoch 14/50\n",
      "375/375 [==============================] - 1s 1ms/step - loss: 0.3592 - acc: 0.8733 - val_loss: 0.4161 - val_acc: 0.8508\n",
      "Epoch 15/50\n",
      "375/375 [==============================] - 1s 1ms/step - loss: 0.3579 - acc: 0.8737 - val_loss: 0.3925 - val_acc: 0.8633\n",
      "Epoch 16/50\n",
      "375/375 [==============================] - 1s 1ms/step - loss: 0.3545 - acc: 0.8735 - val_loss: 0.3990 - val_acc: 0.8595\n"
     ]
    }
   ],
   "source": [
    "from tensorflow.keras import losses, callbacks\n",
    "\n",
    "mlp = create_MLP(hidden_units=[16], input_shape=(784, ))\n",
    "mlp.add(layers.Dense(10, activation='softmax'))\n",
    "mlp.summary()\n",
    "\n",
    "mlp.compile(loss=losses.sparse_categorical_crossentropy,\n",
    "            optimizer='adam', \n",
    "            metrics=['acc'])\n",
    "history = mlp.fit(ppro(X_train, tg=(784, )), y_train,\n",
    "                  epochs=50, batch_size=128, validation_split=0.2, \n",
    "                  callbacks=[callbacks.EarlyStopping(monitor='val_loss', patience=3)])"
   ]
  },
  {
   "cell_type": "code",
   "execution_count": 38,
   "id": "9bd540da-2dc7-465d-bf65-aded7a817311",
   "metadata": {
    "tags": []
   },
   "outputs": [
    {
     "data": {
      "text/plain": [
       "<Axes: >"
      ]
     },
     "execution_count": 38,
     "metadata": {},
     "output_type": "execute_result"
    },
    {
     "data": {
      "image/png": "[encoded data removed]",
      "text/plain": [
       "<Figure size 640x480 with 1 Axes>"
      ]
     },
     "metadata": {},
     "output_type": "display_data"
    }
   ],
   "source": [
    "train_results = pd.DataFrame(history.history)\n",
    "# train_results.plot()\n",
    "train_results[['loss', 'val_loss']].plot()"
   ]
  },
  {
   "cell_type": "code",
   "execution_count": 39,
   "id": "333a3e66-1534-4415-ba28-ebb22085550f",
   "metadata": {
    "tags": []
   },
   "outputs": [
    {
     "data": {
      "text/html": [
       "<div>\n",
       "<style scoped>\n",
       "    .dataframe tbody tr th:only-of-type {\n",
       "        vertical-align: middle;\n",
       "    }\n",
       "\n",
       "    .dataframe tbody tr th {\n",
       "        vertical-align: top;\n",
       "    }\n",
       "\n",
       "    .dataframe thead th {\n",
       "        text-align: right;\n",
       "    }\n",
       "</style>\n",
       "<table border=\"1\" class=\"dataframe\">\n",
       "  <thead>\n",
       "    <tr style=\"text-align: right;\">\n",
       "      <th></th>\n",
       "      <th>loss</th>\n",
       "      <th>acc</th>\n",
       "      <th>val_loss</th>\n",
       "      <th>val_acc</th>\n",
       "    </tr>\n",
       "  </thead>\n",
       "  <tbody>\n",
       "    <tr>\n",
       "      <th>0</th>\n",
       "      <td>0.799545</td>\n",
       "      <td>0.738500</td>\n",
       "      <td>0.544704</td>\n",
       "      <td>0.813333</td>\n",
       "    </tr>\n",
       "    <tr>\n",
       "      <th>1</th>\n",
       "      <td>0.507509</td>\n",
       "      <td>0.827563</td>\n",
       "      <td>0.478122</td>\n",
       "      <td>0.835167</td>\n",
       "    </tr>\n",
       "    <tr>\n",
       "      <th>2</th>\n",
       "      <td>0.463103</td>\n",
       "      <td>0.842438</td>\n",
       "      <td>0.453107</td>\n",
       "      <td>0.846667</td>\n",
       "    </tr>\n",
       "    <tr>\n",
       "      <th>3</th>\n",
       "      <td>0.441068</td>\n",
       "      <td>0.848604</td>\n",
       "      <td>0.449960</td>\n",
       "      <td>0.841833</td>\n",
       "    </tr>\n",
       "    <tr>\n",
       "      <th>4</th>\n",
       "      <td>0.422109</td>\n",
       "      <td>0.854042</td>\n",
       "      <td>0.427519</td>\n",
       "      <td>0.852833</td>\n",
       "    </tr>\n",
       "    <tr>\n",
       "      <th>5</th>\n",
       "      <td>0.411476</td>\n",
       "      <td>0.858854</td>\n",
       "      <td>0.435163</td>\n",
       "      <td>0.847833</td>\n",
       "    </tr>\n",
       "    <tr>\n",
       "      <th>6</th>\n",
       "      <td>0.399755</td>\n",
       "      <td>0.860896</td>\n",
       "      <td>0.414229</td>\n",
       "      <td>0.855750</td>\n",
       "    </tr>\n",
       "    <tr>\n",
       "      <th>7</th>\n",
       "      <td>0.392111</td>\n",
       "      <td>0.862042</td>\n",
       "      <td>0.411927</td>\n",
       "      <td>0.855667</td>\n",
       "    </tr>\n",
       "  </tbody>\n",
       "</table>\n",
       "</div>"
      ],
      "text/plain": [
       "       loss       acc  val_loss   val_acc\n",
       "0  0.799545  0.738500  0.544704  0.813333\n",
       "1  0.507509  0.827563  0.478122  0.835167\n",
       "2  0.463103  0.842438  0.453107  0.846667\n",
       "3  0.441068  0.848604  0.449960  0.841833\n",
       "4  0.422109  0.854042  0.427519  0.852833\n",
       "5  0.411476  0.858854  0.435163  0.847833\n",
       "6  0.399755  0.860896  0.414229  0.855750\n",
       "7  0.392111  0.862042  0.411927  0.855667"
      ]
     },
     "execution_count": 39,
     "metadata": {},
     "output_type": "execute_result"
    }
   ],
   "source": [
    "train_results[:8]"
   ]
  },
  {
   "cell_type": "code",
   "execution_count": 40,
   "id": "96c44fb4-2223-4eba-9fa3-cbef6af2b0a5",
   "metadata": {
    "tags": []
   },
   "outputs": [
    {
     "name": "stdout",
     "output_type": "stream",
     "text": [
      "313/313 [==============================] - 0s 737us/step - loss: 0.4259 - acc: 0.8454\n",
      "Test: loss=0.426, Acc.=84.54%\n"
     ]
    }
   ],
   "source": [
    "loss, acc = mlp.evaluate(ppro(X_test, (784, )), y_test)\n",
    "print(f'Test: loss={loss:.3f}, Acc.={acc:.2%}')"
   ]
  },
  {
   "cell_type": "code",
   "execution_count": 41,
   "id": "1a64785a-6e49-4ea6-b6d5-8990572f1a7d",
   "metadata": {
    "tags": []
   },
   "outputs": [],
   "source": [
    "## 합성곱 신경망"
   ]
  },
  {
   "cell_type": "code",
   "execution_count": 42,
   "id": "d92ce516-90df-4fa0-9c23-d355943f29c4",
   "metadata": {
    "tags": []
   },
   "outputs": [],
   "source": [
    "from tensorflow.keras import layers\n",
    "\n",
    "def create_ConvNet(input_shape):\n",
    "    model = Sequential([\n",
    "        layers.Input(shape=input_shape),\n",
    "        layers.Conv2D(32, activation='relu', kernel_size=(3, 3))\n",
    "    ])\n",
    "    return model"
   ]
  },
  {
   "cell_type": "code",
   "execution_count": 43,
   "id": "4487ca62-5dca-43f2-99a6-dec165563723",
   "metadata": {
    "tags": []
   },
   "outputs": [
    {
     "name": "stdout",
     "output_type": "stream",
     "text": [
      "Model: \"sequential_4\"\n",
      "_________________________________________________________________\n",
      " Layer (type)                Output Shape              Param #   \n",
      "=================================================================\n",
      " conv2d (Conv2D)             (None, 26, 26, 32)        320       \n",
      "                                                                 \n",
      " flatten (Flatten)           (None, 21632)             0         \n",
      "                                                                 \n",
      " dense_13 (Dense)            (None, 10)                216330    \n",
      "                                                                 \n",
      "=================================================================\n",
      "Total params: 216,650\n",
      "Trainable params: 216,650\n",
      "Non-trainable params: 0\n",
      "_________________________________________________________________\n"
     ]
    }
   ],
   "source": [
    "convnet = create_ConvNet(input_shape=(28, 28, 1))\n",
    "convnet.add(layers.Flatten())\n",
    "convnet.add(layers.Dense(10, activation='softmax'))\n",
    "convnet.summary()"
   ]
  },
  {
   "cell_type": "code",
   "execution_count": 44,
   "id": "14888b59-6e46-4201-9c2b-be41921fe3d3",
   "metadata": {
    "tags": []
   },
   "outputs": [],
   "source": [
    "from tensorflow.keras import layers\n",
    "\n",
    "def create_ConvNet(name):\n",
    "    model = Sequential(name=name)\n",
    "    model.add(layers.Conv2D(32, activation='relu', kernel_size=(3, 3)))\n",
    "    return model"
   ]
  },
  {
   "cell_type": "code",
   "execution_count": 45,
   "id": "b2c5209d-8005-408f-bb74-bf1b3a2620a8",
   "metadata": {
    "tags": []
   },
   "outputs": [
    {
     "data": {
      "text/plain": [
       "<keras.engine.sequential.Sequential at 0x1f236578ac0>"
      ]
     },
     "execution_count": 45,
     "metadata": {},
     "output_type": "execute_result"
    }
   ],
   "source": [
    "convnet_block = create_ConvNet(name='convnet')\n",
    "convnet_block"
   ]
  },
  {
   "cell_type": "code",
   "execution_count": 46,
   "id": "e846f5b6-ab7e-483b-a345-99136e06310b",
   "metadata": {
    "tags": []
   },
   "outputs": [
    {
     "name": "stdout",
     "output_type": "stream",
     "text": [
      "Model: \"sequential_5\"\n",
      "_________________________________________________________________\n",
      " Layer (type)                Output Shape              Param #   \n",
      "=================================================================\n",
      " convnet (Sequential)        (None, 26, 26, 32)        320       \n",
      "                                                                 \n",
      " flatten_1 (Flatten)         (None, 21632)             0         \n",
      "                                                                 \n",
      " dense_14 (Dense)            (None, 10)                216330    \n",
      "                                                                 \n",
      "=================================================================\n",
      "Total params: 216,650\n",
      "Trainable params: 216,650\n",
      "Non-trainable params: 0\n",
      "_________________________________________________________________\n",
      "Epoch 1/50\n",
      "375/375 [==============================] - 5s 11ms/step - loss: 0.4991 - acc: 0.8265 - val_loss: 0.3678 - val_acc: 0.8697\n",
      "Epoch 2/50\n",
      "375/375 [==============================] - 4s 11ms/step - loss: 0.3299 - acc: 0.8838 - val_loss: 0.3217 - val_acc: 0.8855\n",
      "Epoch 3/50\n",
      "375/375 [==============================] - 4s 11ms/step - loss: 0.2861 - acc: 0.8976 - val_loss: 0.3082 - val_acc: 0.8899\n",
      "Epoch 4/50\n",
      "375/375 [==============================] - 4s 11ms/step - loss: 0.2614 - acc: 0.9065 - val_loss: 0.2917 - val_acc: 0.8996\n",
      "Epoch 5/50\n",
      "375/375 [==============================] - 4s 12ms/step - loss: 0.2396 - acc: 0.9133 - val_loss: 0.2874 - val_acc: 0.9012\n",
      "Epoch 6/50\n",
      "375/375 [==============================] - 6s 15ms/step - loss: 0.2229 - acc: 0.9200 - val_loss: 0.2890 - val_acc: 0.9013\n",
      "Epoch 7/50\n",
      "375/375 [==============================] - 5s 13ms/step - loss: 0.2099 - acc: 0.9253 - val_loss: 0.2845 - val_acc: 0.8994\n",
      "Epoch 8/50\n",
      "375/375 [==============================] - 4s 11ms/step - loss: 0.1988 - acc: 0.9299 - val_loss: 0.2949 - val_acc: 0.8978\n",
      "Epoch 9/50\n",
      "375/375 [==============================] - 4s 11ms/step - loss: 0.1897 - acc: 0.9330 - val_loss: 0.2816 - val_acc: 0.9033\n",
      "Epoch 10/50\n",
      "375/375 [==============================] - 4s 11ms/step - loss: 0.1783 - acc: 0.9369 - val_loss: 0.2854 - val_acc: 0.9030\n",
      "Epoch 11/50\n",
      "375/375 [==============================] - 4s 11ms/step - loss: 0.1686 - acc: 0.9410 - val_loss: 0.2810 - val_acc: 0.9066\n",
      "Epoch 12/50\n",
      "375/375 [==============================] - 4s 11ms/step - loss: 0.1606 - acc: 0.9436 - val_loss: 0.2886 - val_acc: 0.9047\n",
      "Epoch 13/50\n",
      "375/375 [==============================] - 4s 11ms/step - loss: 0.1542 - acc: 0.9467 - val_loss: 0.2854 - val_acc: 0.9066\n",
      "Epoch 14/50\n",
      "375/375 [==============================] - 4s 11ms/step - loss: 0.1460 - acc: 0.9495 - val_loss: 0.2859 - val_acc: 0.9068\n"
     ]
    }
   ],
   "source": [
    "model = Sequential()\n",
    "\n",
    "# 입력\n",
    "model.add(layers.Input(shape=(28, 28, 1)))\n",
    "# 합성곱 블록\n",
    "model.add(convnet_block)\n",
    "\n",
    "# 출력층\n",
    "model.add(layers.Flatten())\n",
    "model.add(layers.Dense(10, activation='softmax'))\n",
    "model.summary()\n",
    "\n",
    "model.compile(loss=losses.sparse_categorical_crossentropy,\n",
    "            optimizer='adam', \n",
    "            metrics=['acc'])\n",
    "history = model.fit(ppro(X_train, (28, 28, 1)), y_train,\n",
    "                  epochs=50, batch_size=128, validation_split=0.2, \n",
    "                  callbacks=[callbacks.EarlyStopping(monitor='val_loss', patience=3)])\n"
   ]
  },
  {
   "cell_type": "markdown",
   "id": "bcd37e4f-72cd-444f-b9ec-8eb5df5d5a12",
   "metadata": {},
   "source": [
    "### 발전된 모습"
   ]
  },
  {
   "cell_type": "code",
   "execution_count": 47,
   "id": "14104378-4784-42fb-9396-5e30b0267fb2",
   "metadata": {
    "tags": []
   },
   "outputs": [],
   "source": [
    "from tensorflow.keras import layers\n",
    "\n",
    "def create_ConvNet(name):\n",
    "    model = Sequential(name=name)\n",
    "    model.add(layers.Conv2D(32, activation='relu', kernel_size=3))\n",
    "    model.add(layers.MaxPool2D(pool_size=2))\n",
    "    model.add(layers.Conv2D(64, activation='relu', kernel_size=(3, 3)))\n",
    "    model.add(layers.MaxPool2D(pool_size=2))\n",
    "    model.add(layers.Conv2D(128, activation='relu', kernel_size=(3, 3)))\n",
    "    return model"
   ]
  },
  {
   "cell_type": "code",
   "execution_count": 48,
   "id": "ae08ff1a-04d1-449c-8a2a-50dbc5cdcafb",
   "metadata": {
    "tags": []
   },
   "outputs": [
    {
     "name": "stdout",
     "output_type": "stream",
     "text": [
      "Model: \"sequential_6\"\n",
      "_________________________________________________________________\n",
      " Layer (type)                Output Shape              Param #   \n",
      "=================================================================\n",
      " convnet (Sequential)        (None, 3, 3, 128)         92672     \n",
      "                                                                 \n",
      " flatten_2 (Flatten)         (None, 1152)              0         \n",
      "                                                                 \n",
      " dense_15 (Dense)            (None, 10)                11530     \n",
      "                                                                 \n",
      "=================================================================\n",
      "Total params: 104,202\n",
      "Trainable params: 104,202\n",
      "Non-trainable params: 0\n",
      "_________________________________________________________________\n"
     ]
    }
   ],
   "source": [
    "convnet_block = create_ConvNet(name='convnet')\n",
    "convnet_block\n",
    "\n",
    "model = Sequential()\n",
    "\n",
    "# 입력\n",
    "model.add(layers.Input(shape=(28, 28, 1)))\n",
    "# 합성곱 블록\n",
    "model.add(convnet_block)\n",
    "\n",
    "# 출력층\n",
    "model.add(layers.Flatten())\n",
    "model.add(layers.Dense(10, activation='softmax'))\n",
    "model.summary()"
   ]
  },
  {
   "cell_type": "code",
   "execution_count": 49,
   "id": "31290a65-3694-47b3-8d2a-6d37658ceaa6",
   "metadata": {
    "tags": []
   },
   "outputs": [
    {
     "name": "stdout",
     "output_type": "stream",
     "text": [
      "Epoch 1/50\n",
      "375/375 [==============================] - 11s 28ms/step - loss: 0.6256 - acc: 0.7753 - val_loss: 0.4283 - val_acc: 0.8446\n",
      "Epoch 2/50\n",
      "375/375 [==============================] - 11s 29ms/step - loss: 0.3855 - acc: 0.8627 - val_loss: 0.3685 - val_acc: 0.8648\n",
      "Epoch 3/50\n",
      "375/375 [==============================] - 11s 28ms/step - loss: 0.3361 - acc: 0.8785 - val_loss: 0.3335 - val_acc: 0.8765\n",
      "Epoch 4/50\n",
      "375/375 [==============================] - 11s 28ms/step - loss: 0.3045 - acc: 0.8893 - val_loss: 0.2998 - val_acc: 0.8932\n",
      "Epoch 5/50\n",
      "375/375 [==============================] - 11s 29ms/step - loss: 0.2790 - acc: 0.9002 - val_loss: 0.2935 - val_acc: 0.8940\n",
      "Epoch 6/50\n",
      "375/375 [==============================] - 11s 29ms/step - loss: 0.2623 - acc: 0.9052 - val_loss: 0.2811 - val_acc: 0.8986\n",
      "Epoch 7/50\n",
      "375/375 [==============================] - 11s 28ms/step - loss: 0.2438 - acc: 0.9109 - val_loss: 0.2878 - val_acc: 0.8968\n",
      "Epoch 8/50\n",
      "375/375 [==============================] - 11s 28ms/step - loss: 0.2283 - acc: 0.9169 - val_loss: 0.2709 - val_acc: 0.9042\n",
      "Epoch 9/50\n",
      "375/375 [==============================] - 11s 28ms/step - loss: 0.2140 - acc: 0.9212 - val_loss: 0.2790 - val_acc: 0.8988\n",
      "Epoch 10/50\n",
      "375/375 [==============================] - 11s 28ms/step - loss: 0.2001 - acc: 0.9274 - val_loss: 0.2672 - val_acc: 0.9024\n",
      "Epoch 11/50\n",
      "375/375 [==============================] - 10s 28ms/step - loss: 0.1892 - acc: 0.9317 - val_loss: 0.2528 - val_acc: 0.9108\n",
      "Epoch 12/50\n",
      "375/375 [==============================] - 10s 28ms/step - loss: 0.1761 - acc: 0.9354 - val_loss: 0.2619 - val_acc: 0.9078\n",
      "Epoch 13/50\n",
      "375/375 [==============================] - 10s 28ms/step - loss: 0.1636 - acc: 0.9395 - val_loss: 0.2717 - val_acc: 0.9041\n",
      "Epoch 14/50\n",
      "375/375 [==============================] - 10s 28ms/step - loss: 0.1521 - acc: 0.9429 - val_loss: 0.2688 - val_acc: 0.9069\n"
     ]
    }
   ],
   "source": [
    "model.compile(loss=losses.sparse_categorical_crossentropy,\n",
    "            optimizer='adam', \n",
    "            metrics=['acc'])\n",
    "history = model.fit(ppro(X_train, (28, 28, 1)), y_train,\n",
    "                  epochs=50, batch_size=128, validation_split=0.2, \n",
    "                  callbacks=[callbacks.EarlyStopping(monitor='val_loss', patience=3)])"
   ]
  },
  {
   "cell_type": "code",
   "execution_count": null,
   "id": "e6e2e706-6f0c-4e9e-bd1f-e36e72434852",
   "metadata": {},
   "outputs": [],
   "source": []
  }
 ],
 "metadata": {
  "kernelspec": {
   "display_name": "pydeep",
   "language": "python",
   "name": "pydeep"
  },
  "language_info": {
   "codemirror_mode": {
    "name": "ipython",
    "version": 3
   },
   "file_extension": ".py",
   "mimetype": "text/x-python",
   "name": "python",
   "nbconvert_exporter": "python",
   "pygments_lexer": "ipython3",
   "version": "3.9.16"
  }
 },
 "nbformat": 4,
 "nbformat_minor": 5
}
