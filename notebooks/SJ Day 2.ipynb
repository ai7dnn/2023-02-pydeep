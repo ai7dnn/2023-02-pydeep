{
 "cells": [
  {
   "cell_type": "code",
   "execution_count": 1,
   "id": "dc8db6ec-a6ca-42e7-bea4-99739aaa7b56",
   "metadata": {
    "tags": []
   },
   "outputs": [],
   "source": [
    "import numpy as np\n",
    "import pandas as pd\n",
    "import matplotlib.pyplot as plt\n",
    "import tensorflow as tf"
   ]
  },
  {
   "cell_type": "markdown",
   "id": "1a2d6051-b29c-4c95-985b-70c02b4e79f1",
   "metadata": {},
   "source": [
    "연산 장치에서 GPU를 제외하여 CPU만 사용하도록 설정"
   ]
  },
  {
   "cell_type": "code",
   "execution_count": 2,
   "id": "df8f270a-b3f8-438f-ba15-7423cb362de2",
   "metadata": {
    "tags": []
   },
   "outputs": [
    {
     "name": "stderr",
     "output_type": "stream",
     "text": [
      "2023-02-21 04:52:11.115136: I tensorflow/stream_executor/cuda/cuda_gpu_executor.cc:961] could not open file to read NUMA node: /sys/bus/pci/devices/0000:08:00.0/numa_node\n",
      "Your kernel may have been built without NUMA support.\n",
      "2023-02-21 04:52:11.118645: I tensorflow/stream_executor/cuda/cuda_gpu_executor.cc:961] could not open file to read NUMA node: /sys/bus/pci/devices/0000:08:00.0/numa_node\n",
      "Your kernel may have been built without NUMA support.\n",
      "2023-02-21 04:52:11.118699: I tensorflow/stream_executor/cuda/cuda_gpu_executor.cc:961] could not open file to read NUMA node: /sys/bus/pci/devices/0000:08:00.0/numa_node\n",
      "Your kernel may have been built without NUMA support.\n"
     ]
    }
   ],
   "source": [
    "tf.config.set_visible_devices([], device_type='GPU')"
   ]
  },
  {
   "cell_type": "code",
   "execution_count": 3,
   "id": "c345a968-540d-40c3-89ab-6041a0af32f9",
   "metadata": {
    "tags": []
   },
   "outputs": [
    {
     "data": {
      "text/plain": [
       "[PhysicalDevice(name='/physical_device:CPU:0', device_type='CPU')]"
      ]
     },
     "execution_count": 3,
     "metadata": {},
     "output_type": "execute_result"
    }
   ],
   "source": [
    "tf.config.get_visible_devices()"
   ]
  },
  {
   "cell_type": "code",
   "execution_count": 4,
   "id": "e70bd65f-0f24-4ff7-ad5d-e551d8a165b7",
   "metadata": {
    "tags": []
   },
   "outputs": [
    {
     "name": "stderr",
     "output_type": "stream",
     "text": [
      "2023-02-21 04:52:11.265358: I tensorflow/core/platform/cpu_feature_guard.cc:193] This TensorFlow binary is optimized with oneAPI Deep Neural Network Library (oneDNN) to use the following CPU instructions in performance-critical operations:  AVX2 FMA\n",
      "To enable them in other operations, rebuild TensorFlow with the appropriate compiler flags.\n"
     ]
    }
   ],
   "source": [
    "a = tf.constant([1, 2, 3])"
   ]
  },
  {
   "cell_type": "markdown",
   "id": "7f2e812d-6078-4844-a46d-5ea6d72226b4",
   "metadata": {},
   "source": [
    "# Keras Model API"
   ]
  },
  {
   "cell_type": "markdown",
   "id": "58657b74-d7cd-446b-9b37-9bb9ac70edf8",
   "metadata": {},
   "source": [
    "## Sequential Model "
   ]
  },
  {
   "cell_type": "code",
   "execution_count": 9,
   "id": "3925cbe9-336f-4b53-8e87-cf1f08633dea",
   "metadata": {
    "tags": []
   },
   "outputs": [],
   "source": [
    "from tensorflow import keras\n",
    "from tensorflow.keras import Sequential, layers\n",
    "\n",
    "model = keras.Sequential([\n",
    "    layers.Dense(64, activation='relu'),\n",
    "    layers.Dense(10, activation='softmax')\n",
    "])"
   ]
  },
  {
   "cell_type": "code",
   "execution_count": 10,
   "id": "e3edeca4-7f1c-4827-9163-d548e6ee7b8c",
   "metadata": {
    "tags": []
   },
   "outputs": [],
   "source": [
    "model = Sequential()\n",
    "model.add(layers.Dense(64, activation='relu'))\n",
    "model.add(layers.Dense(10, activation='softmax'))"
   ]
  },
  {
   "cell_type": "code",
   "execution_count": 11,
   "id": "8fc4ec68-e6c5-49ac-9f7b-5a5c2c778d29",
   "metadata": {
    "tags": []
   },
   "outputs": [
    {
     "name": "stdout",
     "output_type": "stream",
     "text": [
      "Model: \"sequential_1\"\n",
      "_________________________________________________________________\n",
      " Layer (type)                Output Shape              Param #   \n",
      "=================================================================\n",
      " dense_2 (Dense)             (None, 64)                50240     \n",
      "                                                                 \n",
      " dense_3 (Dense)             (None, 10)                650       \n",
      "                                                                 \n",
      "=================================================================\n",
      "Total params: 50,890\n",
      "Trainable params: 50,890\n",
      "Non-trainable params: 0\n",
      "_________________________________________________________________\n"
     ]
    }
   ],
   "source": [
    "model.build(input_shape=(None, 784))\n",
    "model.summary()"
   ]
  },
  {
   "cell_type": "code",
   "execution_count": 12,
   "id": "21f15088-8a25-40f2-8caf-f00e2a54118f",
   "metadata": {
    "tags": []
   },
   "outputs": [
    {
     "name": "stdout",
     "output_type": "stream",
     "text": [
      "Model: \"fashion_mnist\"\n",
      "_________________________________________________________________\n",
      " Layer (type)                Output Shape              Param #   \n",
      "=================================================================\n",
      " FC1 (Dense)                 (None, 64)                50240     \n",
      "                                                                 \n",
      " output (Dense)              (None, 10)                650       \n",
      "                                                                 \n",
      "=================================================================\n",
      "Total params: 50,890\n",
      "Trainable params: 50,890\n",
      "Non-trainable params: 0\n",
      "_________________________________________________________________\n"
     ]
    }
   ],
   "source": [
    "model = Sequential(name=\"fashion_mnist\")\n",
    "model.add(keras.Input(shape=(784,)))\n",
    "model.add(layers.Dense(64, activation='relu', name='FC1'))\n",
    "model.add(layers.Dense(10, activation='softmax', name=\"output\"))\n",
    "model.summary()"
   ]
  },
  {
   "cell_type": "markdown",
   "id": "9b3da768-9d65-406c-8f87-019ea06b3afd",
   "metadata": {},
   "source": [
    "## Funtional API"
   ]
  },
  {
   "cell_type": "code",
   "execution_count": 13,
   "id": "96a86254-44cf-4164-ab35-e569695a6dbc",
   "metadata": {
    "tags": []
   },
   "outputs": [
    {
     "name": "stdout",
     "output_type": "stream",
     "text": [
      "Model: \"model\"\n",
      "_________________________________________________________________\n",
      " Layer (type)                Output Shape              Param #   \n",
      "=================================================================\n",
      " mnist input (InputLayer)    [(None, 784)]             0         \n",
      "                                                                 \n",
      " FC1 (Dense)                 (None, 64)                50240     \n",
      "                                                                 \n",
      " FC2 (Dense)                 (None, 64)                4160      \n",
      "                                                                 \n",
      " output (Dense)              (None, 10)                650       \n",
      "                                                                 \n",
      "=================================================================\n",
      "Total params: 55,050\n",
      "Trainable params: 55,050\n",
      "Non-trainable params: 0\n",
      "_________________________________________________________________\n"
     ]
    }
   ],
   "source": [
    "inputs = keras.Input(shape=(784,), name=\"mnist input\")\n",
    "fc1 = layers.Dense(64, activation='relu', name='FC1')\n",
    "fc2 = layers.Dense(64, activation='relu', name='FC2')\n",
    "outputs = layers.Dense(10, activation='softmax', name=\"output\")\n",
    "\n",
    "features = fc1(inputs)\n",
    "features = fc2(features)\n",
    "outputs = outputs(features)\n",
    "\n",
    "model = keras.Model(inputs=inputs, outputs=outputs)\n",
    "model.summary()"
   ]
  },
  {
   "cell_type": "markdown",
   "id": "3aa07570-4eee-484f-aee3-d623a7facfec",
   "metadata": {},
   "source": [
    "### 다중 입력, 다중 출력 모델 사례"
   ]
  },
  {
   "cell_type": "code",
   "execution_count": 14,
   "id": "b8c4906b-6244-477a-affe-f37f31146e15",
   "metadata": {
    "tags": []
   },
   "outputs": [
    {
     "name": "stdout",
     "output_type": "stream",
     "text": [
      "Model: \"model_1\"\n",
      "__________________________________________________________________________________________________\n",
      " Layer (type)                   Output Shape         Param #     Connected to                     \n",
      "==================================================================================================\n",
      " title (InputLayer)             [(None, 10000)]      0           []                               \n",
      "                                                                                                  \n",
      " text_body (InputLayer)         [(None, 10000)]      0           []                               \n",
      "                                                                                                  \n",
      " tags (InputLayer)              [(None, 100)]        0           []                               \n",
      "                                                                                                  \n",
      " concatenate (Concatenate)      (None, 20100)        0           ['title[0][0]',                  \n",
      "                                                                  'text_body[0][0]',              \n",
      "                                                                  'tags[0][0]']                   \n",
      "                                                                                                  \n",
      " dense_4 (Dense)                (None, 64)           1286464     ['concatenate[0][0]']            \n",
      "                                                                                                  \n",
      " priority (Dense)               (None, 1)            65          ['dense_4[0][0]']                \n",
      "                                                                                                  \n",
      " department (Dense)             (None, 4)            260         ['dense_4[0][0]']                \n",
      "                                                                                                  \n",
      "==================================================================================================\n",
      "Total params: 1,286,789\n",
      "Trainable params: 1,286,789\n",
      "Non-trainable params: 0\n",
      "__________________________________________________________________________________________________\n"
     ]
    }
   ],
   "source": [
    "def create_model(어휘수, 태그수, 부서수):\n",
    "    title = keras.Input(shape=(어휘수,), name='title')\n",
    "    text_body = keras.Input(shape=(어휘수,), name='text_body')\n",
    "    tags = keras.Input(shape=(태그수,), name='tags')\n",
    "\n",
    "    features = layers.Concatenate()([title, text_body, tags])\n",
    "    features = layers.Dense(64, activation='relu')(features)\n",
    "\n",
    "    우선순위 = layers.Dense(1, name='priority')(features)\n",
    "    부서 = layers.Dense(부서수, activation='softmax', name='department')(features)\n",
    "\n",
    "    model = keras.Model(inputs=[title, text_body, tags], outputs=[우선순위, 부서])\n",
    "    return model\n",
    "\n",
    "create_model(어휘수=10000, 태그수=100, 부서수=4).summary()"
   ]
  },
  {
   "cell_type": "code",
   "execution_count": 15,
   "id": "9c5e19f9-58aa-44a2-8285-ee5268a3f2e4",
   "metadata": {
    "tags": []
   },
   "outputs": [
    {
     "data": {
      "text/plain": [
       "array([[0, 0, 1, 0, 1],\n",
       "       [0, 0, 0, 1, 1]])"
      ]
     },
     "execution_count": 15,
     "metadata": {},
     "output_type": "execute_result"
    }
   ],
   "source": [
    "np.random.randint(0, 2, size=(2, 5))"
   ]
  },
  {
   "cell_type": "code",
   "execution_count": 16,
   "id": "735e0e85-0f00-462b-aa5f-f65cb6e2fd96",
   "metadata": {
    "collapsed": true,
    "jupyter": {
     "outputs_hidden": true
    },
    "tags": []
   },
   "outputs": [
    {
     "data": {
      "text/plain": [
       "array([[0.89824089],\n",
       "       [0.85180975],\n",
       "       [0.701724  ],\n",
       "       [0.13404012],\n",
       "       [0.45602418]])"
      ]
     },
     "execution_count": 16,
     "metadata": {},
     "output_type": "execute_result"
    }
   ],
   "source": [
    "np.random.random(size=(5, 1))"
   ]
  },
  {
   "cell_type": "code",
   "execution_count": 17,
   "id": "d0e46762-50da-4002-81e9-8fc58648de34",
   "metadata": {
    "collapsed": true,
    "jupyter": {
     "outputs_hidden": true
    },
    "tags": []
   },
   "outputs": [
    {
     "data": {
      "text/plain": [
       "\u001b[0;31mDocstring:\u001b[0m\n",
       "random(size=None)\n",
       "\n",
       "Return random floats in the half-open interval [0.0, 1.0). Alias for\n",
       "`random_sample` to ease forward-porting to the new random API.\n",
       "\u001b[0;31mType:\u001b[0m      builtin_function_or_method"
      ]
     },
     "metadata": {},
     "output_type": "display_data"
    }
   ],
   "source": [
    "np.random.random?"
   ]
  },
  {
   "cell_type": "code",
   "execution_count": 18,
   "id": "2d826025-46a4-492e-bde3-275d2b67fb05",
   "metadata": {
    "collapsed": true,
    "jupyter": {
     "outputs_hidden": true
    },
    "tags": []
   },
   "outputs": [
    {
     "data": {
      "text/plain": [
       "array([[0, 0, 0, 1],\n",
       "       [1, 0, 1, 0],\n",
       "       [0, 0, 0, 1],\n",
       "       [1, 1, 1, 1],\n",
       "       [0, 1, 1, 1]])"
      ]
     },
     "execution_count": 18,
     "metadata": {},
     "output_type": "execute_result"
    }
   ],
   "source": [
    "np.random.randint(0, 2, size=(5, 4))"
   ]
  },
  {
   "cell_type": "code",
   "execution_count": 19,
   "id": "736591f6-9d3e-4978-ad0d-2ed69b1c73e1",
   "metadata": {
    "tags": []
   },
   "outputs": [
    {
     "name": "stdout",
     "output_type": "stream",
     "text": [
      "40/40 [==============================] - 1s 11ms/step - loss: 375.6274 - priority_loss: 371.5468 - department_loss: 4.0805\n"
     ]
    },
    {
     "data": {
      "text/plain": [
       "<keras.callbacks.History at 0x7f92de351880>"
      ]
     },
     "execution_count": 19,
     "metadata": {},
     "output_type": "execute_result"
    }
   ],
   "source": [
    "from tensorflow.keras import losses\n",
    "\n",
    "# 모의 데이터 (dummy data)\n",
    "n_samples = 1280\n",
    "어휘수 = 10000\n",
    "태그수 = 100\n",
    "부서수 = 4\n",
    "\n",
    "# 입력 데이터\n",
    "title = np.random.randint(0, 2, size=(n_samples, 어휘수))\n",
    "text_body = np.random.randint(0, 2, size=(n_samples, 어휘수))\n",
    "tags = np.random.randint(0, 2, size=(n_samples, 태그수))\n",
    "# 출력 라벨\n",
    "우선순위 = np.random.random(size=(n_samples, 1)) # 연속적 값 [0.0, 1.0)\n",
    "부서 = np.random.randint(0, 2, size=(n_samples, 부서수))\n",
    "\n",
    "model = create_model(어휘수, 태그수, 부서수)\n",
    "# model.compile(optimizer='rmsprop', loss=[losses.mean_squared_error, losses.categorical_crossentropy])\n",
    "# model.fit([title, text_body, tags], [우선순위, 부서], epochs=1)\n",
    "model.compile(optimizer='rmsprop', loss={\n",
    "    'priority': losses.mean_squared_error,\n",
    "    'department': losses.categorical_crossentropy\n",
    "})\n",
    "model.fit(\n",
    "    {'title': title, 'tags': tags, 'text_body': text_body}, # 입력 데이터\n",
    "    {'priority': 우선순위, 'department': 부서}, # 출력 데이터\n",
    "    epochs=1)"
   ]
  },
  {
   "cell_type": "code",
   "execution_count": 20,
   "id": "43c36a6e-3694-4f1d-b695-55efb8ae4cd3",
   "metadata": {
    "collapsed": true,
    "jupyter": {
     "outputs_hidden": true
    },
    "tags": []
   },
   "outputs": [
    {
     "data": {
      "image/png": "[encoded data removed]",
      "text/plain": [
       "<IPython.core.display.Image object>"
      ]
     },
     "execution_count": 20,
     "metadata": {},
     "output_type": "execute_result"
    }
   ],
   "source": [
    "keras.utils.plot_model(model)"
   ]
  },
  {
   "cell_type": "code",
   "execution_count": 21,
   "id": "09d27350-1484-4cce-b8e4-b44b2cb838e9",
   "metadata": {
    "tags": []
   },
   "outputs": [
    {
     "data": {
      "text/plain": [
       "[<keras.engine.input_layer.InputLayer at 0x7f92de36e820>,\n",
       " <keras.engine.input_layer.InputLayer at 0x7f92de36e730>,\n",
       " <keras.engine.input_layer.InputLayer at 0x7f92de303670>,\n",
       " <keras.layers.merging.concatenate.Concatenate at 0x7f92de36ff10>,\n",
       " <keras.layers.core.dense.Dense at 0x7f92de36fd90>,\n",
       " <keras.layers.core.dense.Dense at 0x7f92de36f9d0>,\n",
       " <keras.layers.core.dense.Dense at 0x7f92de31c070>]"
      ]
     },
     "execution_count": 21,
     "metadata": {},
     "output_type": "execute_result"
    }
   ],
   "source": [
    "model.layers"
   ]
  },
  {
   "cell_type": "code",
   "execution_count": 22,
   "id": "1ad2690e-5711-452d-9e01-719e192597ee",
   "metadata": {
    "tags": []
   },
   "outputs": [
    {
     "data": {
      "text/plain": [
       "<keras.layers.merging.concatenate.Concatenate at 0x7f92de36ff10>"
      ]
     },
     "execution_count": 22,
     "metadata": {},
     "output_type": "execute_result"
    }
   ],
   "source": [
    "model.layers[3]"
   ]
  },
  {
   "cell_type": "code",
   "execution_count": 24,
   "id": "a8b68037-c76b-4d4e-bffa-9fc01557fbbb",
   "metadata": {
    "tags": []
   },
   "outputs": [
    {
     "data": {
      "text/plain": [
       "[<KerasTensor: shape=(None, 10000) dtype=float32 (created by layer 'title')>,\n",
       " <KerasTensor: shape=(None, 10000) dtype=float32 (created by layer 'text_body')>,\n",
       " <KerasTensor: shape=(None, 100) dtype=float32 (created by layer 'tags')>]"
      ]
     },
     "execution_count": 24,
     "metadata": {},
     "output_type": "execute_result"
    }
   ],
   "source": [
    "model.layers[3].input"
   ]
  },
  {
   "cell_type": "code",
   "execution_count": 25,
   "id": "404f45b8-4956-4656-9e77-59d68c9e83a5",
   "metadata": {
    "tags": []
   },
   "outputs": [
    {
     "data": {
      "text/plain": [
       "<KerasTensor: shape=(None, 20100) dtype=float32 (created by layer 'concatenate_1')>"
      ]
     },
     "execution_count": 25,
     "metadata": {},
     "output_type": "execute_result"
    }
   ],
   "source": [
    "model.layers[3].output"
   ]
  },
  {
   "cell_type": "code",
   "execution_count": 35,
   "id": "ec6f4313-397c-47ca-929b-fb9068f5e1a2",
   "metadata": {
    "tags": []
   },
   "outputs": [
    {
     "data": {
      "image/png": "[encoded data removed]",
      "text/plain": [
       "<IPython.core.display.Image object>"
      ]
     },
     "execution_count": 35,
     "metadata": {},
     "output_type": "execute_result"
    }
   ],
   "source": [
    "model = create_model(어휘수=10000, 태그수=100, 부서수=4)\n",
    "\n",
    "features = model.layers[4].output\n",
    "difficulty = layers.Dense(3, activation='softmax', name='difficulty')(features)\n",
    "new_outputs = model.outputs + [difficulty]\n",
    "new_model = keras.Model(inputs=model.inputs, outputs=new_outputs)\n",
    "\n",
    "keras.utils.plot_model(new_model, show_shapes=True)"
   ]
  },
  {
   "cell_type": "markdown",
   "id": "9d3ff53e-bd8d-4e98-9ad4-cedb235a6861",
   "metadata": {},
   "source": [
    "# Vision Deep Learning "
   ]
  },
  {
   "cell_type": "code",
   "execution_count": 36,
   "id": "654f91fa-3c53-4b20-ba4f-e6a002a31195",
   "metadata": {
    "tags": []
   },
   "outputs": [],
   "source": [
    "from tensorflow.keras.datasets import fashion_mnist\n",
    "\n",
    "(X_train, y_train), (X_test, y_test) = fashion_mnist.load_data()"
   ]
  },
  {
   "cell_type": "code",
   "execution_count": 37,
   "id": "80559642-7ac5-4a0a-b0d6-537e5c3ac024",
   "metadata": {
    "collapsed": true,
    "jupyter": {
     "outputs_hidden": true
    },
    "tags": []
   },
   "outputs": [
    {
     "data": {
      "text/plain": [
       "<matplotlib.image.AxesImage at 0x7f931504b640>"
      ]
     },
     "execution_count": 37,
     "metadata": {},
     "output_type": "execute_result"
    },
    {
     "data": {
      "image/png": "[encoded data removed]",
      "text/plain": [
       "<Figure size 640x480 with 1 Axes>"
      ]
     },
     "metadata": {},
     "output_type": "display_data"
    }
   ],
   "source": [
    "plt.imshow(X_train[0])"
   ]
  },
  {
   "cell_type": "code",
   "execution_count": 6,
   "id": "baa73cfe-da2a-4f34-a005-0ffcf64b5993",
   "metadata": {
    "tags": []
   },
   "outputs": [],
   "source": [
    "def 전처리(X, 목표형상):\n",
    "    X = X.astype('float32')\n",
    "    X = X.reshape(-1, *목표형상)\n",
    "    X /= 255\n",
    "    return X"
   ]
  },
  {
   "cell_type": "code",
   "execution_count": 7,
   "id": "12b349fc-6119-4386-afbc-0670727013e2",
   "metadata": {
    "tags": []
   },
   "outputs": [
    {
     "data": {
      "text/plain": [
       "(60000, 784)"
      ]
     },
     "execution_count": 7,
     "metadata": {},
     "output_type": "execute_result"
    }
   ],
   "source": [
    "전처리(X_train, 목표형상=(784,)).shape"
   ]
  },
  {
   "cell_type": "code",
   "execution_count": 8,
   "id": "dc52d7d8-7d34-44bb-9d97-e2bfc5d375f6",
   "metadata": {
    "tags": []
   },
   "outputs": [
    {
     "data": {
      "text/plain": [
       "array([0, 1, 2, 3, 4, 5, 6, 7, 8, 9], dtype=uint8)"
      ]
     },
     "execution_count": 8,
     "metadata": {},
     "output_type": "execute_result"
    }
   ],
   "source": [
    "np.unique(y_train)"
   ]
  },
  {
   "cell_type": "code",
   "execution_count": 47,
   "id": "175a465d-aafa-42bc-8c79-c5c0398cfae7",
   "metadata": {
    "collapsed": true,
    "jupyter": {
     "outputs_hidden": true
    },
    "tags": []
   },
   "outputs": [
    {
     "data": {
      "text/plain": [
       "array([[0., 0., 0., 0., 0., 0., 0., 0., 0., 1.],\n",
       "       [1., 0., 0., 0., 0., 0., 0., 0., 0., 0.],\n",
       "       [1., 0., 0., 0., 0., 0., 0., 0., 0., 0.],\n",
       "       [0., 0., 0., 1., 0., 0., 0., 0., 0., 0.],\n",
       "       [1., 0., 0., 0., 0., 0., 0., 0., 0., 0.]])"
      ]
     },
     "execution_count": 47,
     "metadata": {},
     "output_type": "execute_result"
    }
   ],
   "source": [
    "np.eye(10)[y_train][:5]"
   ]
  },
  {
   "cell_type": "code",
   "execution_count": 43,
   "id": "f9fc72cb-de2b-4f47-a9ce-a1aad6e4e170",
   "metadata": {
    "tags": []
   },
   "outputs": [],
   "source": [
    "def create_MLP(hidden_units, input_shape=None):\n",
    "    model = Sequential()\n",
    "    if input_shape:\n",
    "        model.add(keras.Input(shape=input_shape))\n",
    "    for units in hidden_units:\n",
    "        model.add(layers.Dense(units, activation='relu'))\n",
    "    return model"
   ]
  },
  {
   "cell_type": "code",
   "execution_count": 66,
   "id": "7a6bf712-ee83-420e-b5a7-8810e0be9f0f",
   "metadata": {
    "collapsed": true,
    "jupyter": {
     "outputs_hidden": true
    },
    "tags": []
   },
   "outputs": [
    {
     "name": "stdout",
     "output_type": "stream",
     "text": [
      "Model: \"sequential_12\"\n",
      "_________________________________________________________________\n",
      " Layer (type)                Output Shape              Param #   \n",
      "=================================================================\n",
      " dense_37 (Dense)            (None, 16)                12560     \n",
      "                                                                 \n",
      " dense_38 (Dense)            (None, 10)                170       \n",
      "                                                                 \n",
      "=================================================================\n",
      "Total params: 12,730\n",
      "Trainable params: 12,730\n",
      "Non-trainable params: 0\n",
      "_________________________________________________________________\n",
      "Epoch 1/50\n",
      "375/375 [==============================] - 1s 1ms/step - loss: 0.8066 - acc: 0.7426 - val_loss: 0.5509 - val_acc: 0.8095\n",
      "Epoch 2/50\n",
      "375/375 [==============================] - 0s 1ms/step - loss: 0.5049 - acc: 0.8287 - val_loss: 0.5146 - val_acc: 0.8199\n",
      "Epoch 3/50\n",
      "375/375 [==============================] - 0s 1ms/step - loss: 0.4639 - acc: 0.8401 - val_loss: 0.4568 - val_acc: 0.8424\n",
      "Epoch 4/50\n",
      "375/375 [==============================] - 0s 1ms/step - loss: 0.4408 - acc: 0.8489 - val_loss: 0.4414 - val_acc: 0.8478\n",
      "Epoch 5/50\n",
      "375/375 [==============================] - 0s 1ms/step - loss: 0.4285 - acc: 0.8515 - val_loss: 0.4337 - val_acc: 0.8474\n",
      "Epoch 6/50\n",
      "375/375 [==============================] - 0s 1ms/step - loss: 0.4185 - acc: 0.8559 - val_loss: 0.4278 - val_acc: 0.8497\n",
      "Epoch 7/50\n",
      "375/375 [==============================] - 0s 1ms/step - loss: 0.4101 - acc: 0.8586 - val_loss: 0.4189 - val_acc: 0.8557\n",
      "Epoch 8/50\n",
      "375/375 [==============================] - 0s 1ms/step - loss: 0.4031 - acc: 0.8602 - val_loss: 0.4208 - val_acc: 0.8555\n",
      "Epoch 9/50\n",
      "375/375 [==============================] - 0s 1ms/step - loss: 0.4001 - acc: 0.8609 - val_loss: 0.4199 - val_acc: 0.8526\n",
      "Epoch 10/50\n",
      "375/375 [==============================] - 0s 1ms/step - loss: 0.3946 - acc: 0.8616 - val_loss: 0.4094 - val_acc: 0.8605\n",
      "Epoch 11/50\n",
      "375/375 [==============================] - 0s 1ms/step - loss: 0.3900 - acc: 0.8636 - val_loss: 0.4186 - val_acc: 0.8543\n",
      "Epoch 12/50\n",
      "375/375 [==============================] - 0s 1ms/step - loss: 0.3866 - acc: 0.8658 - val_loss: 0.4129 - val_acc: 0.8565\n",
      "Epoch 13/50\n",
      "375/375 [==============================] - 0s 1ms/step - loss: 0.3824 - acc: 0.8662 - val_loss: 0.4140 - val_acc: 0.8614\n"
     ]
    }
   ],
   "source": [
    "from tensorflow.keras import losses, callbacks\n",
    "\n",
    "mlp = create_MLP(hidden_units=[16], input_shape=(784,))\n",
    "mlp.add(layers.Dense(10, activation='softmax'))\n",
    "mlp.summary()\n",
    "\n",
    "mlp.compile(loss=losses.sparse_categorical_crossentropy, optimizer='adam', metrics=['acc'])\n",
    "history = mlp.fit(\n",
    "    전처리(X_train, (784,)), y_train, \n",
    "    epochs=50, batch_size=128, validation_split=0.2, callbacks=[\n",
    "        callbacks.EarlyStopping(monitor='val_loss', patience=3)\n",
    "    ])"
   ]
  },
  {
   "cell_type": "code",
   "execution_count": 65,
   "id": "77000961-069a-46e6-b7b4-f39b0abf759c",
   "metadata": {
    "collapsed": true,
    "jupyter": {
     "outputs_hidden": true
    },
    "tags": []
   },
   "outputs": [
    {
     "data": {
      "text/plain": [
       "<Axes: >"
      ]
     },
     "execution_count": 65,
     "metadata": {},
     "output_type": "execute_result"
    },
    {
     "data": {
      "image/png": "[encoded data removed]",
      "text/plain": [
       "<Figure size 640x480 with 1 Axes>"
      ]
     },
     "metadata": {},
     "output_type": "display_data"
    }
   ],
   "source": [
    "train_results = pd.DataFrame(history.history)\n",
    "train_results[['loss', 'val_loss']].plot()"
   ]
  },
  {
   "cell_type": "code",
   "execution_count": 61,
   "id": "af1f58f7-66c0-405a-a0e2-75e21242645e",
   "metadata": {
    "collapsed": true,
    "jupyter": {
     "outputs_hidden": true
    },
    "tags": []
   },
   "outputs": [
    {
     "data": {
      "text/html": [
       "<div>\n",
       "<style scoped>\n",
       "    .dataframe tbody tr th:only-of-type {\n",
       "        vertical-align: middle;\n",
       "    }\n",
       "\n",
       "    .dataframe tbody tr th {\n",
       "        vertical-align: top;\n",
       "    }\n",
       "\n",
       "    .dataframe thead th {\n",
       "        text-align: right;\n",
       "    }\n",
       "</style>\n",
       "<table border=\"1\" class=\"dataframe\">\n",
       "  <thead>\n",
       "    <tr style=\"text-align: right;\">\n",
       "      <th></th>\n",
       "      <th>loss</th>\n",
       "      <th>acc</th>\n",
       "      <th>val_loss</th>\n",
       "      <th>val_acc</th>\n",
       "    </tr>\n",
       "  </thead>\n",
       "  <tbody>\n",
       "    <tr>\n",
       "      <th>0</th>\n",
       "      <td>0.596626</td>\n",
       "      <td>0.796000</td>\n",
       "      <td>0.450944</td>\n",
       "      <td>0.839000</td>\n",
       "    </tr>\n",
       "    <tr>\n",
       "      <th>1</th>\n",
       "      <td>0.411842</td>\n",
       "      <td>0.854125</td>\n",
       "      <td>0.400775</td>\n",
       "      <td>0.858917</td>\n",
       "    </tr>\n",
       "    <tr>\n",
       "      <th>2</th>\n",
       "      <td>0.368806</td>\n",
       "      <td>0.867542</td>\n",
       "      <td>0.386864</td>\n",
       "      <td>0.860750</td>\n",
       "    </tr>\n",
       "    <tr>\n",
       "      <th>3</th>\n",
       "      <td>0.346278</td>\n",
       "      <td>0.874208</td>\n",
       "      <td>0.430860</td>\n",
       "      <td>0.847167</td>\n",
       "    </tr>\n",
       "    <tr>\n",
       "      <th>4</th>\n",
       "      <td>0.330185</td>\n",
       "      <td>0.879729</td>\n",
       "      <td>0.347710</td>\n",
       "      <td>0.873750</td>\n",
       "    </tr>\n",
       "    <tr>\n",
       "      <th>5</th>\n",
       "      <td>0.309471</td>\n",
       "      <td>0.886396</td>\n",
       "      <td>0.340137</td>\n",
       "      <td>0.879917</td>\n",
       "    </tr>\n",
       "    <tr>\n",
       "      <th>6</th>\n",
       "      <td>0.300230</td>\n",
       "      <td>0.889854</td>\n",
       "      <td>0.353036</td>\n",
       "      <td>0.873750</td>\n",
       "    </tr>\n",
       "    <tr>\n",
       "      <th>7</th>\n",
       "      <td>0.291028</td>\n",
       "      <td>0.892521</td>\n",
       "      <td>0.331697</td>\n",
       "      <td>0.879667</td>\n",
       "    </tr>\n",
       "  </tbody>\n",
       "</table>\n",
       "</div>"
      ],
      "text/plain": [
       "       loss       acc  val_loss   val_acc\n",
       "0  0.596626  0.796000  0.450944  0.839000\n",
       "1  0.411842  0.854125  0.400775  0.858917\n",
       "2  0.368806  0.867542  0.386864  0.860750\n",
       "3  0.346278  0.874208  0.430860  0.847167\n",
       "4  0.330185  0.879729  0.347710  0.873750\n",
       "5  0.309471  0.886396  0.340137  0.879917\n",
       "6  0.300230  0.889854  0.353036  0.873750\n",
       "7  0.291028  0.892521  0.331697  0.879667"
      ]
     },
     "execution_count": 61,
     "metadata": {},
     "output_type": "execute_result"
    }
   ],
   "source": [
    "train_results[:8]"
   ]
  },
  {
   "cell_type": "code",
   "execution_count": 53,
   "id": "b29a2f57-ebd4-4c4b-bcd8-fa3cc2950869",
   "metadata": {
    "tags": []
   },
   "outputs": [
    {
     "name": "stdout",
     "output_type": "stream",
     "text": [
      "313/313 [==============================] - 0s 640us/step - loss: 0.3506 - acc: 0.8770\n",
      "Test: Loss=0.351, Acc.=87.70%\n"
     ]
    }
   ],
   "source": [
    "loss, acc = mlp.evaluate(전처리(X_test, (784,)), y_test)\n",
    "print(f'Test: Loss={loss:.3f}, Acc.={acc:.2%}')"
   ]
  },
  {
   "cell_type": "markdown",
   "id": "89b0370c-d0e5-4e61-b712-d07a45c7ac97",
   "metadata": {},
   "source": [
    "## 합성곱 신경망"
   ]
  },
  {
   "cell_type": "code",
   "execution_count": 90,
   "id": "6eb6e375-84a0-4f38-8bfe-2bc2f8ead121",
   "metadata": {
    "collapsed": true,
    "jupyter": {
     "outputs_hidden": true
    },
    "tags": []
   },
   "outputs": [
    {
     "name": "stdout",
     "output_type": "stream",
     "text": [
      "Model: \"sequential_26\"\n",
      "_________________________________________________________________\n",
      " Layer (type)                Output Shape              Param #   \n",
      "=================================================================\n",
      " convnet (Sequential)        (None, 3, 3, 128)         92672     \n",
      "                                                                 \n",
      " flatten_5 (Flatten)         (None, 1152)              0         \n",
      "                                                                 \n",
      " dense_45 (Dense)            (None, 10)                11530     \n",
      "                                                                 \n",
      "=================================================================\n",
      "Total params: 104,202\n",
      "Trainable params: 104,202\n",
      "Non-trainable params: 0\n",
      "_________________________________________________________________\n"
     ]
    }
   ],
   "source": [
    "from tensorflow.keras import layers\n",
    "\n",
    "def create_ConvNet(name):\n",
    "    model = Sequential(name=name)\n",
    "    model.add(layers.Conv2D(32, activation='relu', kernel_size=3))\n",
    "    model.add(layers.MaxPool2D(pool_size=2))\n",
    "    model.add(layers.Conv2D(64, activation='relu', kernel_size=3))\n",
    "    model.add(layers.MaxPool2D(pool_size=2))\n",
    "    model.add(layers.Conv2D(128, activation='relu', kernel_size=3))\n",
    "    return model\n",
    "\n",
    "convnet_block = create_ConvNet(name='convnet')\n",
    "\n",
    "model = Sequential()\n",
    "# 입력\n",
    "model.add(keras.Input(shape=(28, 28, 1)))\n",
    "# 합성곱 블럭\n",
    "model.add(convnet_block)\n",
    "# 출력층\n",
    "model.add(layers.Flatten())\n",
    "model.add(layers.Dense(10, activation='softmax'))\n",
    "model.summary()"
   ]
  },
  {
   "cell_type": "code",
   "execution_count": 91,
   "id": "b0248a1b-a542-4fed-b3f9-b4e2232f54d9",
   "metadata": {
    "tags": []
   },
   "outputs": [
    {
     "name": "stdout",
     "output_type": "stream",
     "text": [
      "Epoch 1/50\n",
      "375/375 [==============================] - 5s 14ms/step - loss: 0.6253 - acc: 0.7722 - val_loss: 0.4392 - val_acc: 0.8449\n",
      "Epoch 2/50\n",
      "375/375 [==============================] - 5s 14ms/step - loss: 0.3864 - acc: 0.8628 - val_loss: 0.3824 - val_acc: 0.8633\n",
      "Epoch 3/50\n",
      "375/375 [==============================] - 5s 14ms/step - loss: 0.3337 - acc: 0.8811 - val_loss: 0.3272 - val_acc: 0.8786\n",
      "Epoch 4/50\n",
      "375/375 [==============================] - 5s 14ms/step - loss: 0.3017 - acc: 0.8916 - val_loss: 0.3354 - val_acc: 0.8777\n",
      "Epoch 5/50\n",
      "375/375 [==============================] - 5s 14ms/step - loss: 0.2804 - acc: 0.8986 - val_loss: 0.2974 - val_acc: 0.8932\n",
      "Epoch 6/50\n",
      "375/375 [==============================] - 5s 14ms/step - loss: 0.2574 - acc: 0.9060 - val_loss: 0.2852 - val_acc: 0.9007\n",
      "Epoch 7/50\n",
      "375/375 [==============================] - 5s 14ms/step - loss: 0.2417 - acc: 0.9119 - val_loss: 0.2747 - val_acc: 0.9019\n",
      "Epoch 8/50\n",
      "375/375 [==============================] - 5s 15ms/step - loss: 0.2300 - acc: 0.9156 - val_loss: 0.2734 - val_acc: 0.9020\n",
      "Epoch 9/50\n",
      "375/375 [==============================] - 6s 15ms/step - loss: 0.2133 - acc: 0.9230 - val_loss: 0.2748 - val_acc: 0.9032\n",
      "Epoch 10/50\n",
      "375/375 [==============================] - 5s 14ms/step - loss: 0.2026 - acc: 0.9263 - val_loss: 0.2555 - val_acc: 0.9091\n",
      "Epoch 11/50\n",
      "375/375 [==============================] - 5s 14ms/step - loss: 0.1873 - acc: 0.9320 - val_loss: 0.2699 - val_acc: 0.9044\n",
      "Epoch 12/50\n",
      "375/375 [==============================] - 5s 14ms/step - loss: 0.1780 - acc: 0.9349 - val_loss: 0.2635 - val_acc: 0.9074\n",
      "Epoch 13/50\n",
      "375/375 [==============================] - 5s 14ms/step - loss: 0.1641 - acc: 0.9403 - val_loss: 0.2576 - val_acc: 0.9109\n"
     ]
    }
   ],
   "source": [
    "model.compile(loss=losses.sparse_categorical_crossentropy, optimizer='adam', metrics=['acc'])\n",
    "history = model.fit(\n",
    "    전처리(X_train, (28, 28, 1)), y_train, \n",
    "    epochs=50, batch_size=128, validation_split=0.2, callbacks=[\n",
    "        callbacks.EarlyStopping(monitor='val_loss', patience=3)\n",
    "    ])"
   ]
  },
  {
   "cell_type": "code",
   "execution_count": null,
   "id": "2f51c77f-477f-44ae-a5fa-98090a0fe081",
   "metadata": {},
   "outputs": [],
   "source": []
  }
 ],
 "metadata": {
  "kernelspec": {
   "display_name": "pydeep",
   "language": "python",
   "name": "pydeep"
  },
  "language_info": {
   "codemirror_mode": {
    "name": "ipython",
    "version": 3
   },
   "file_extension": ".py",
   "mimetype": "text/x-python",
   "name": "python",
   "nbconvert_exporter": "python",
   "pygments_lexer": "ipython3",
   "version": "3.9.16"
  }
 },
 "nbformat": 4,
 "nbformat_minor": 5
}
