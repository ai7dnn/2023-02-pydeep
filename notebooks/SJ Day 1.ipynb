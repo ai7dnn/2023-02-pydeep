{
 "cells": [
  {
   "cell_type": "code",
   "execution_count": 1,
   "id": "102e7aef-fd50-4716-9eb2-73d290c8d12b",
   "metadata": {
    "tags": []
   },
   "outputs": [
    {
     "name": "stdout",
     "output_type": "stream",
     "text": [
      "3.9.16 (main, Jan 11 2023, 16:05:54) \n",
      "[GCC 11.2.0]\n"
     ]
    }
   ],
   "source": [
    "import sys\n",
    "print(sys.version)"
   ]
  },
  {
   "cell_type": "code",
   "execution_count": 2,
   "id": "1ba08cc5-e651-4243-9e9b-c88b41b5687e",
   "metadata": {
    "tags": []
   },
   "outputs": [
    {
     "data": {
      "text/plain": [
       "'Linux-5.15.79.1-microsoft-standard-WSL2-x86_64-with-glibc2.31'"
      ]
     },
     "execution_count": 2,
     "metadata": {},
     "output_type": "execute_result"
    }
   ],
   "source": [
    "import platform\n",
    "platform.platform()"
   ]
  },
  {
   "cell_type": "code",
   "execution_count": 3,
   "id": "dc65aeb6-9315-43cf-971e-22bf7a325fbd",
   "metadata": {
    "tags": []
   },
   "outputs": [
    {
     "name": "stdout",
     "output_type": "stream",
     "text": [
      "2.9.3\n"
     ]
    }
   ],
   "source": [
    "import tensorflow as tf\n",
    "print(tf.__version__)"
   ]
  },
  {
   "cell_type": "code",
   "execution_count": 4,
   "id": "a286b9a1-b06e-4dc6-8a34-436bbe2beee9",
   "metadata": {
    "tags": []
   },
   "outputs": [
    {
     "name": "stderr",
     "output_type": "stream",
     "text": [
      "2023-02-20 02:23:46.039545: I tensorflow/stream_executor/cuda/cuda_gpu_executor.cc:961] could not open file to read NUMA node: /sys/bus/pci/devices/0000:08:00.0/numa_node\n",
      "Your kernel may have been built without NUMA support.\n"
     ]
    },
    {
     "data": {
      "text/plain": [
       "[PhysicalDevice(name='/physical_device:CPU:0', device_type='CPU'),\n",
       " PhysicalDevice(name='/physical_device:GPU:0', device_type='GPU')]"
      ]
     },
     "execution_count": 4,
     "metadata": {},
     "output_type": "execute_result"
    },
    {
     "name": "stderr",
     "output_type": "stream",
     "text": [
      "2023-02-20 02:23:46.064810: I tensorflow/stream_executor/cuda/cuda_gpu_executor.cc:961] could not open file to read NUMA node: /sys/bus/pci/devices/0000:08:00.0/numa_node\n",
      "Your kernel may have been built without NUMA support.\n",
      "2023-02-20 02:23:46.065076: I tensorflow/stream_executor/cuda/cuda_gpu_executor.cc:961] could not open file to read NUMA node: /sys/bus/pci/devices/0000:08:00.0/numa_node\n",
      "Your kernel may have been built without NUMA support.\n"
     ]
    }
   ],
   "source": [
    "tf.config.get_visible_devices()"
   ]
  },
  {
   "cell_type": "markdown",
   "id": "49e64d14-0c6c-4a19-90b9-db4d2ee2ab9a",
   "metadata": {},
   "source": [
    "GPU가 있어도 CPU만 사용하도록 설정 (라이브 수강 실습 편의상)"
   ]
  },
  {
   "cell_type": "code",
   "execution_count": 5,
   "id": "26f0a8bb-e9a3-4329-999a-1e210910f60f",
   "metadata": {
    "tags": []
   },
   "outputs": [],
   "source": [
    "tf.config.set_visible_devices([], device_type='GPU')"
   ]
  },
  {
   "cell_type": "markdown",
   "id": "13dd2298-9ab2-43d5-9ac9-14d5df80e6cc",
   "metadata": {},
   "source": [
    "# 신경망 리뷰 "
   ]
  },
  {
   "cell_type": "code",
   "execution_count": 12,
   "id": "b8a524ea-8626-4195-99c4-b2ccbc5ff435",
   "metadata": {
    "tags": []
   },
   "outputs": [],
   "source": [
    "import numpy as np\n",
    "import pandas as pd\n",
    "import matplotlib.pyplot as plt"
   ]
  },
  {
   "cell_type": "code",
   "execution_count": 7,
   "id": "bca26718-ec38-46d1-8dcf-e461cd42ea9c",
   "metadata": {
    "tags": []
   },
   "outputs": [
    {
     "name": "stdout",
     "output_type": "stream",
     "text": [
      "Downloading data from https://storage.googleapis.com/tensorflow/tf-keras-datasets/mnist.npz\n",
      "11490434/11490434 [==============================] - 1s 0us/step\n"
     ]
    }
   ],
   "source": [
    "from tensorflow.keras.datasets import mnist\n",
    "\n",
    "(train_images, train_labels), (test_images, test_labels) = mnist.load_data()"
   ]
  },
  {
   "cell_type": "code",
   "execution_count": 8,
   "id": "8c158867-1e83-42eb-aa3d-97500b8d3313",
   "metadata": {
    "tags": []
   },
   "outputs": [
    {
     "data": {
      "text/plain": [
       "numpy.ndarray"
      ]
     },
     "execution_count": 8,
     "metadata": {},
     "output_type": "execute_result"
    }
   ],
   "source": [
    "type(train_images)"
   ]
  },
  {
   "cell_type": "code",
   "execution_count": 14,
   "id": "022d3139-e8d7-4121-97ce-99c04cac484a",
   "metadata": {
    "tags": []
   },
   "outputs": [
    {
     "data": {
      "text/plain": [
       "((60000, 28, 28), (60000,))"
      ]
     },
     "execution_count": 14,
     "metadata": {},
     "output_type": "execute_result"
    }
   ],
   "source": [
    "train_images.shape, train_labels.shape"
   ]
  },
  {
   "cell_type": "code",
   "execution_count": 13,
   "id": "82aa5b25-5ec4-4e6d-b0ff-777802fc67a5",
   "metadata": {
    "tags": []
   },
   "outputs": [
    {
     "data": {
      "text/plain": [
       "array([0, 1, 2, 3, 4, 5, 6, 7, 8, 9], dtype=uint8)"
      ]
     },
     "execution_count": 13,
     "metadata": {},
     "output_type": "execute_result"
    }
   ],
   "source": [
    "np.unique(train_labels)"
   ]
  },
  {
   "cell_type": "code",
   "execution_count": 15,
   "id": "3fc65c94-5dd4-4e73-8460-809a5179015b",
   "metadata": {
    "collapsed": true,
    "jupyter": {
     "outputs_hidden": true
    },
    "tags": []
   },
   "outputs": [
    {
     "data": {
      "text/plain": [
       "<matplotlib.image.AxesImage at 0x7f430aa70af0>"
      ]
     },
     "execution_count": 15,
     "metadata": {},
     "output_type": "execute_result"
    },
    {
     "data": {
      "image/png": "[encoded data removed]",
      "text/plain": [
       "<Figure size 640x480 with 1 Axes>"
      ]
     },
     "metadata": {},
     "output_type": "display_data"
    }
   ],
   "source": [
    "plt.imshow(train_images[0])"
   ]
  },
  {
   "cell_type": "code",
   "execution_count": 20,
   "id": "dcb59d41-c9f3-4703-af37-286dcc6a81ec",
   "metadata": {
    "collapsed": true,
    "jupyter": {
     "outputs_hidden": true
    },
    "tags": []
   },
   "outputs": [
    {
     "data": {
      "image/png": "[encoded data removed]",
      "text/plain": [
       "<Figure size 800x400 with 10 Axes>"
      ]
     },
     "metadata": {},
     "output_type": "display_data"
    }
   ],
   "source": [
    "fig, subplots = plt.subplots(2, 5, figsize=(8, 4))\n",
    "for 표본, 라벨, 그래프 in zip(train_images, train_labels, subplots.ravel()):\n",
    "    그래프.imshow(표본, 'Greys')\n",
    "    그래프.set_title(f'y={라벨}')\n",
    "    그래프.axis('off')"
   ]
  },
  {
   "cell_type": "markdown",
   "id": "42353143-5c6a-4ddb-aed8-404cbcc6927f",
   "metadata": {},
   "source": [
    "## 손글씨 인식 모형\n",
    "\n",
    "1. 기계학습\n",
    "1. 신경망\n",
    "    1. MLP\n",
    "    1. ConvNet"
   ]
  },
  {
   "cell_type": "code",
   "execution_count": 22,
   "id": "f3b4a9ab-6ec4-42c5-baf7-a90e81444df7",
   "metadata": {
    "tags": []
   },
   "outputs": [
    {
     "data": {
      "text/plain": [
       "(60000, 28, 28)"
      ]
     },
     "execution_count": 22,
     "metadata": {},
     "output_type": "execute_result"
    }
   ],
   "source": [
    "train_images.shape"
   ]
  },
  {
   "cell_type": "code",
   "execution_count": 23,
   "id": "4bf188fc-3706-4c24-bc4e-07adbb609641",
   "metadata": {
    "tags": []
   },
   "outputs": [],
   "source": [
    "def 전처리(X):\n",
    "    X = X.astype('float32')\n",
    "    X = X.reshape(-1, 28 * 28)\n",
    "    X /= 255\n",
    "    return X"
   ]
  },
  {
   "cell_type": "code",
   "execution_count": 25,
   "id": "e231bfbb-d7f6-474f-a31b-c0467af1b0bd",
   "metadata": {
    "tags": []
   },
   "outputs": [
    {
     "name": "stdout",
     "output_type": "stream",
     "text": [
      "(60000, 784), 0.0 <= x <= 1.0\n"
     ]
    }
   ],
   "source": [
    "X_train = 전처리(train_images)\n",
    "print(f'{X_train.shape}, {X_train.min()} <= x <= {X_train.max()}')"
   ]
  },
  {
   "cell_type": "code",
   "execution_count": 27,
   "id": "c3f16812-709e-4e5c-937d-af41eb314c79",
   "metadata": {
    "tags": []
   },
   "outputs": [
    {
     "name": "stdout",
     "output_type": "stream",
     "text": [
      "(10000, 784), 0.0 <= x <= 1.0\n"
     ]
    }
   ],
   "source": [
    "X_test = 전처리(test_images)\n",
    "print(f'{X_test.shape}, {X_test.min()} <= x <= {X_test.max()}')"
   ]
  },
  {
   "cell_type": "code",
   "execution_count": 35,
   "id": "159f1c81-56c0-4a4e-af27-05d94f86c036",
   "metadata": {
    "collapsed": true,
    "jupyter": {
     "outputs_hidden": true
    },
    "tags": []
   },
   "outputs": [
    {
     "name": "stderr",
     "output_type": "stream",
     "text": [
      "/home/me/.conda/envs/pydeep/lib/python3.9/site-packages/sklearn/linear_model/_logistic.py:458: ConvergenceWarning: lbfgs failed to converge (status=1):\n",
      "STOP: TOTAL NO. of ITERATIONS REACHED LIMIT.\n",
      "\n",
      "Increase the number of iterations (max_iter) or scale the data as shown in:\n",
      "    https://scikit-learn.org/stable/modules/preprocessing.html\n",
      "Please also refer to the documentation for alternative solver options:\n",
      "    https://scikit-learn.org/stable/modules/linear_model.html#logistic-regression\n",
      "  n_iter_i = _check_optimize_result(\n"
     ]
    }
   ],
   "source": [
    "from sklearn.linear_model import LogisticRegression\n",
    "\n",
    "logreg = LogisticRegression(C=100.0).fit(X_train, train_labels)"
   ]
  },
  {
   "cell_type": "code",
   "execution_count": 36,
   "id": "bd0271f7-6b8f-4f32-a44c-4dfe2a4446ef",
   "metadata": {
    "tags": []
   },
   "outputs": [
    {
     "name": "stdout",
     "output_type": "stream",
     "text": [
      "R2(최적화)=0.935, R2(일반화)=0.926\n"
     ]
    }
   ],
   "source": [
    "print(f'R2(최적화)={logreg.score(X_train, train_labels):.3f}, R2(일반화)={logreg.score(X_test, test_labels):.3f}')"
   ]
  },
  {
   "cell_type": "code",
   "execution_count": 37,
   "id": "4d570fc8-bd2a-46d3-a95c-2a523152f05a",
   "metadata": {
    "tags": []
   },
   "outputs": [],
   "source": [
    "from sklearn.ensemble import RandomForestClassifier\n",
    "\n",
    "mnist_forest = RandomForestClassifier().fit(X_train, train_labels)"
   ]
  },
  {
   "cell_type": "code",
   "execution_count": 38,
   "id": "3e8ccaf5-9ae6-471e-ba36-01437536d0fd",
   "metadata": {
    "tags": []
   },
   "outputs": [
    {
     "name": "stdout",
     "output_type": "stream",
     "text": [
      "R2(최적화)=1.000, R2(일반화)=0.967\n"
     ]
    }
   ],
   "source": [
    "print(f'R2(최적화)={mnist_forest.score(X_train, train_labels):.3f}, R2(일반화)={mnist_forest.score(X_test, test_labels):.3f}')"
   ]
  },
  {
   "cell_type": "code",
   "execution_count": 48,
   "id": "ce4300a5-bebe-41e3-9a49-ae99c8e53d79",
   "metadata": {
    "collapsed": true,
    "jupyter": {
     "outputs_hidden": true
    },
    "tags": []
   },
   "outputs": [
    {
     "name": "stdout",
     "output_type": "stream",
     "text": [
      "Epoch 1/5\n",
      "600/600 [==============================] - 2s 3ms/step - loss: 0.2416 - accuracy: 0.9298\n",
      "Epoch 2/5\n",
      "600/600 [==============================] - 2s 3ms/step - loss: 0.0983 - accuracy: 0.9713\n",
      "Epoch 3/5\n",
      "600/600 [==============================] - 2s 3ms/step - loss: 0.0657 - accuracy: 0.9804\n",
      "Epoch 4/5\n",
      "600/600 [==============================] - 2s 3ms/step - loss: 0.0477 - accuracy: 0.9854\n",
      "Epoch 5/5\n",
      "600/600 [==============================] - 2s 3ms/step - loss: 0.0361 - accuracy: 0.9889\n"
     ]
    }
   ],
   "source": [
    "from tensorflow import keras\n",
    "from tensorflow.keras import Sequential, layers, losses, optimizers\n",
    "\n",
    "mlp = keras.Sequential([\n",
    "    layers.Dense(512, activation='relu'),\n",
    "    layers.Dense(10, activation='softmax')\n",
    "])\n",
    "\n",
    "mlp.compile(loss=losses.sparse_categorical_crossentropy, optimizer=optimizers.RMSprop(), metrics=['accuracy'])\n",
    "\n",
    "history = mlp.fit(X_train, train_labels, epochs=5, batch_size=100)"
   ]
  },
  {
   "cell_type": "code",
   "execution_count": 49,
   "id": "be2d76c6-8f8a-4935-a5d4-3f94e87763cc",
   "metadata": {
    "tags": []
   },
   "outputs": [
    {
     "name": "stdout",
     "output_type": "stream",
     "text": [
      "313/313 [==============================] - 0s 747us/step - loss: 0.0738 - accuracy: 0.9784\n",
      "정확도=97.84%\n"
     ]
    }
   ],
   "source": [
    "loss, acc = mlp.evaluate(X_test, test_labels)\n",
    "print(f'정확도={acc:.2%}')"
   ]
  },
  {
   "cell_type": "markdown",
   "id": "fc0b72b2-8da6-43a8-816d-3ccab4563b30",
   "metadata": {},
   "source": [
    "## TensorFlow API "
   ]
  },
  {
   "cell_type": "markdown",
   "id": "df863bf9-e6b8-42d9-8198-58e136356f06",
   "metadata": {},
   "source": [
    "### Vector "
   ]
  },
  {
   "cell_type": "code",
   "execution_count": 50,
   "id": "549b7849-f501-406a-ab02-8046b5c4dc04",
   "metadata": {
    "tags": []
   },
   "outputs": [
    {
     "data": {
      "text/plain": [
       "array([0, 1, 2, 3, 4, 5, 6, 7, 8, 9])"
      ]
     },
     "execution_count": 50,
     "metadata": {},
     "output_type": "execute_result"
    }
   ],
   "source": [
    "x = np.array(range(10))\n",
    "x"
   ]
  },
  {
   "cell_type": "code",
   "execution_count": 51,
   "id": "956d657f-bbcc-4e2e-ac31-53aeed10c59e",
   "metadata": {
    "tags": []
   },
   "outputs": [
    {
     "data": {
      "text/plain": [
       "array([0, 1, 2, 3, 4, 5, 6, 7, 8, 9])"
      ]
     },
     "execution_count": 51,
     "metadata": {},
     "output_type": "execute_result"
    }
   ],
   "source": [
    "x = np.arange(10)\n",
    "x"
   ]
  },
  {
   "cell_type": "code",
   "execution_count": 52,
   "id": "995c773f-9821-4f2d-8a52-590603f4cb91",
   "metadata": {
    "tags": []
   },
   "outputs": [
    {
     "data": {
      "text/plain": [
       "(10,)"
      ]
     },
     "execution_count": 52,
     "metadata": {},
     "output_type": "execute_result"
    }
   ],
   "source": [
    "x.shape"
   ]
  },
  {
   "cell_type": "code",
   "execution_count": 53,
   "id": "a6d50129-d511-42f1-a185-329403780d0f",
   "metadata": {
    "tags": []
   },
   "outputs": [
    {
     "data": {
      "text/plain": [
       "1"
      ]
     },
     "execution_count": 53,
     "metadata": {},
     "output_type": "execute_result"
    }
   ],
   "source": [
    "x.ndim"
   ]
  },
  {
   "cell_type": "code",
   "execution_count": 54,
   "id": "481a9821-4a5d-4ec0-acd9-ccb1886f6ace",
   "metadata": {
    "tags": []
   },
   "outputs": [
    {
     "data": {
      "text/plain": [
       "<tf.Tensor: shape=(10,), dtype=int32, numpy=array([0, 1, 2, 3, 4, 5, 6, 7, 8, 9], dtype=int32)>"
      ]
     },
     "execution_count": 54,
     "metadata": {},
     "output_type": "execute_result"
    }
   ],
   "source": [
    "x = tf.constant(range(10))\n",
    "x"
   ]
  },
  {
   "cell_type": "code",
   "execution_count": 55,
   "id": "42341e69-3839-43d8-996a-4b435dc403a2",
   "metadata": {
    "tags": []
   },
   "outputs": [
    {
     "data": {
      "text/plain": [
       "array([0, 1, 2, 3, 4, 5, 6, 7, 8, 9], dtype=int32)"
      ]
     },
     "execution_count": 55,
     "metadata": {},
     "output_type": "execute_result"
    }
   ],
   "source": [
    "x.numpy()"
   ]
  },
  {
   "cell_type": "code",
   "execution_count": 56,
   "id": "9383adb9-cbcf-4660-8f1b-d7fa0267d9c4",
   "metadata": {
    "tags": []
   },
   "outputs": [
    {
     "data": {
      "text/plain": [
       "array([[0, 1, 2],\n",
       "       [3, 4, 5]])"
      ]
     },
     "execution_count": 56,
     "metadata": {},
     "output_type": "execute_result"
    }
   ],
   "source": [
    "x2 = np.array([[0, 1, 2], [3, 4, 5]])\n",
    "x2               "
   ]
  },
  {
   "cell_type": "code",
   "execution_count": 57,
   "id": "a940b7c5-dc24-49ae-b8b0-d42af5e973b0",
   "metadata": {
    "tags": []
   },
   "outputs": [
    {
     "data": {
      "text/plain": [
       "<tf.Tensor: shape=(2, 3), dtype=int64, numpy=\n",
       "array([[0, 1, 2],\n",
       "       [3, 4, 5]])>"
      ]
     },
     "execution_count": 57,
     "metadata": {},
     "output_type": "execute_result"
    }
   ],
   "source": [
    "tf.constant(x2)"
   ]
  },
  {
   "cell_type": "code",
   "execution_count": 59,
   "id": "1c52e54b-9162-4d2c-96dd-21fbb6c57fd7",
   "metadata": {
    "tags": []
   },
   "outputs": [
    {
     "data": {
      "text/plain": [
       "array([[ 0,  2,  4],\n",
       "       [ 6,  8, 10]])"
      ]
     },
     "execution_count": 59,
     "metadata": {},
     "output_type": "execute_result"
    }
   ],
   "source": [
    "x2 * 2"
   ]
  },
  {
   "cell_type": "code",
   "execution_count": 60,
   "id": "0214480f-c151-4821-92cd-7c14efb3ed47",
   "metadata": {
    "tags": []
   },
   "outputs": [
    {
     "data": {
      "text/plain": [
       "array([[0, 0, 0],\n",
       "       [0, 0, 0]])"
      ]
     },
     "execution_count": 60,
     "metadata": {},
     "output_type": "execute_result"
    }
   ],
   "source": [
    "x2 - x2"
   ]
  },
  {
   "cell_type": "code",
   "execution_count": 61,
   "id": "beb0546e-d7af-4926-9837-b2b17d718b78",
   "metadata": {
    "tags": []
   },
   "outputs": [
    {
     "data": {
      "text/plain": [
       "<tf.Tensor: shape=(2, 3), dtype=int64, numpy=\n",
       "array([[ 0,  2,  4],\n",
       "       [ 6,  8, 10]])>"
      ]
     },
     "execution_count": 61,
     "metadata": {},
     "output_type": "execute_result"
    }
   ],
   "source": [
    "tf.constant(x2) * 2"
   ]
  },
  {
   "cell_type": "code",
   "execution_count": 62,
   "id": "9ff54c3d-e3f1-4454-9ca0-0c836b678894",
   "metadata": {
    "tags": []
   },
   "outputs": [
    {
     "data": {
      "text/plain": [
       "<tf.Tensor: shape=(2, 3), dtype=int64, numpy=\n",
       "array([[0, 0, 0],\n",
       "       [0, 0, 0]])>"
      ]
     },
     "execution_count": 62,
     "metadata": {},
     "output_type": "execute_result"
    }
   ],
   "source": [
    "tf.constant(x2) - tf.constant(x2)"
   ]
  },
  {
   "cell_type": "code",
   "execution_count": 63,
   "id": "379ee84c-d714-4490-93bf-e9db5bac51dd",
   "metadata": {
    "tags": []
   },
   "outputs": [
    {
     "data": {
      "text/plain": [
       "<tf.Tensor: shape=(2, 2), dtype=int32, numpy=\n",
       "array([[1, 1],\n",
       "       [1, 1]], dtype=int32)>"
      ]
     },
     "execution_count": 63,
     "metadata": {},
     "output_type": "execute_result"
    }
   ],
   "source": [
    "x1 = tf.constant([[1, 2], [3, 4]])\n",
    "x2 = tf.constant([[-1, -1], [1, 1]])\n",
    "tf.matmul(x1, x2)"
   ]
  },
  {
   "cell_type": "code",
   "execution_count": 65,
   "id": "11c51881-630a-4f47-89eb-163ec2f0a504",
   "metadata": {
    "tags": []
   },
   "outputs": [
    {
     "data": {
      "text/plain": [
       "array([[1, 1],\n",
       "       [1, 1]], dtype=int32)"
      ]
     },
     "execution_count": 65,
     "metadata": {},
     "output_type": "execute_result"
    }
   ],
   "source": [
    "np.dot(x1.numpy(), x2.numpy())"
   ]
  },
  {
   "cell_type": "markdown",
   "id": "3034e0d9-9d52-4410-8ec2-39dda2d1ccac",
   "metadata": {},
   "source": [
    "### 경사 하강"
   ]
  },
  {
   "cell_type": "code",
   "execution_count": 80,
   "id": "bedea0b0-5b36-416c-87f7-643fe8693922",
   "metadata": {
    "tags": []
   },
   "outputs": [
    {
     "data": {
      "text/plain": [
       "[<matplotlib.lines.Line2D at 0x7f418e453070>]"
      ]
     },
     "execution_count": 80,
     "metadata": {},
     "output_type": "execute_result"
    },
    {
     "data": {
      "image/png": "[encoded data removed]",
      "text/plain": [
       "<Figure size 640x480 with 1 Axes>"
      ]
     },
     "metadata": {},
     "output_type": "display_data"
    }
   ],
   "source": [
    "x = np.arange(-5, 5, 0.1)\n",
    "f = lambda x: x ** 2\n",
    "dfdx = lambda x: 2 * x\n",
    "\n",
    "def 수치미분(f, x):\n",
    "    h = 1e-4\n",
    "    return (f(x + h) - f(x)) / h\n",
    "\n",
    "def 경사하강(f, 초기값, 학습횟수, 학습률):\n",
    "    x = 초기값\n",
    "    x_history = [x]\n",
    "    for _ in range(학습횟수):\n",
    "        x = x - 수치미분(f, x) * 학습률\n",
    "        x_history.append(x)        \n",
    "    return np.array(x_history)\n",
    "\n",
    "x_history = 경사하강(f, 초기값=-4, 학습횟수=10, 학습률=0.1)\n",
    "\n",
    "plt.plot(x, f(x))\n",
    "plt.plot(x, dfdx(x), '--')\n",
    "plt.plot(x, 수치미분(f, x), 'k')\n",
    "plt.scatter(x_history, f(x_history), c='r')\n",
    "plt.plot(0, 0, 'ro')"
   ]
  },
  {
   "cell_type": "code",
   "execution_count": 81,
   "id": "952770be-0e36-4a07-b4d7-f400f84f5449",
   "metadata": {
    "tags": []
   },
   "outputs": [],
   "source": [
    "x = tf.Variable(1.0)\n",
    "\n",
    "with tf.GradientTape() as tape:\n",
    "    y = x ** 2"
   ]
  },
  {
   "cell_type": "code",
   "execution_count": 82,
   "id": "8e06e871-d326-46e1-9a9d-92452889fc26",
   "metadata": {
    "tags": []
   },
   "outputs": [
    {
     "data": {
      "text/plain": [
       "<tf.Tensor: shape=(), dtype=float32, numpy=2.0>"
      ]
     },
     "execution_count": 82,
     "metadata": {},
     "output_type": "execute_result"
    }
   ],
   "source": [
    "dydx = tape.gradient(y, x)\n",
    "dydx"
   ]
  },
  {
   "cell_type": "code",
   "execution_count": 89,
   "id": "046c089c-84b6-44fb-b9ba-16ba1d7eb6b3",
   "metadata": {
    "tags": []
   },
   "outputs": [
    {
     "data": {
      "image/png": "[encoded data removed]",
      "text/plain": [
       "<Figure size 640x480 with 1 Axes>"
      ]
     },
     "metadata": {},
     "output_type": "display_data"
    }
   ],
   "source": [
    "x = tf.Variable(tf.range(-5, 5, 0.1))\n",
    "f = lambda x: x ** 2\n",
    "\n",
    "def 경사하강(f, init_x, lr=0.01, step_num=100):\n",
    "    x = tf.Variable(init_x)\n",
    "    x_history = [tf.constant(x)]\n",
    "    for i in range(step_num):\n",
    "        with tf.GradientTape() as tape:\n",
    "            y = f(x)\n",
    "        grad = tape.gradient(y, x)\n",
    "        x.assign_sub(lr * grad)\n",
    "        x_history.append(tf.constant(x))\n",
    "    return tf.constant([xi.numpy() for xi in x_history])\n",
    "\n",
    "x_history = 경사하강(f, init_x=tf.constant(-4.0), lr=0.1, step_num=100)\n",
    "plt.plot(x.numpy(), y.numpy())\n",
    "plt.plot(x_history.numpy(), f(x_history).numpy(), 'ro')\n",
    "plt.plot(0, 0, 'o')\n",
    "plt.show()"
   ]
  },
  {
   "cell_type": "code",
   "execution_count": 100,
   "id": "da0dd2e4-78e1-4793-9f22-b1399ee09fa6",
   "metadata": {
    "collapsed": true,
    "jupyter": {
     "outputs_hidden": true
    },
    "tags": []
   },
   "outputs": [
    {
     "name": "stdout",
     "output_type": "stream",
     "text": [
      "w=[0.98205176], b=-0.0672535730320928\n"
     ]
    },
    {
     "data": {
      "text/plain": [
       "[<matplotlib.lines.Line2D at 0x7f418d50fca0>]"
      ]
     },
     "execution_count": 100,
     "metadata": {},
     "output_type": "execute_result"
    },
    {
     "data": {
      "image/png": "[encoded data removed]",
      "text/plain": [
       "<Figure size 640x480 with 1 Axes>"
      ]
     },
     "metadata": {},
     "output_type": "display_data"
    }
   ],
   "source": [
    "from sklearn.linear_model import LinearRegression\n",
    "\n",
    "x = np.linspace(-5, 5, 100)\n",
    "noise = np.random.randn(len(x))\n",
    "y = x + noise\n",
    "\n",
    "X = x.reshape(-1, 1)\n",
    "linreg = LinearRegression().fit(X, y)\n",
    "w = linreg.coef_\n",
    "b = linreg.intercept_\n",
    "print(f'w={w}, b={b}')\n",
    "\n",
    "plt.scatter(x, y)\n",
    "plt.plot(x, linreg.predict(X), 'r--')"
   ]
  },
  {
   "cell_type": "code",
   "execution_count": 121,
   "id": "2a39eb99-b64b-4682-a38d-db3c7af47ff4",
   "metadata": {
    "tags": []
   },
   "outputs": [],
   "source": [
    "class TFLinearRegression:\n",
    "    def __init__(self):\n",
    "        self.w = None\n",
    "        self.b = None\n",
    "        \n",
    "    def predict(self, X):\n",
    "        return tf.matmul(X, tf.expand_dims(self.w, axis=-1)) + self.b\n",
    "    \n",
    "    def 경사산출(self, X, y):\n",
    "        with tf.GradientTape() as tape:\n",
    "            Y_pred = self.predict(X)\n",
    "            y_pred = tf.squeeze(Y_pred)\n",
    "            # 손실 산출\n",
    "            loss = tf.reduce_mean((y - y_pred) ** 2)\n",
    "            \n",
    "        dw, db = tape.gradient(loss, [self.w, self.b])\n",
    "        return dw, db\n",
    "    \n",
    "    def fit(self, X, y, 학습횟수, 학습률):\n",
    "        \"\"\"학습 알고리즘\"\"\"\n",
    "        # 1. 매개변수 초기화\n",
    "        self.w = tf.Variable(np.zeros(X.shape[-1]), dtype=tf.float32)\n",
    "        self.b = tf.Variable(0.0, dtype=tf.float32)\n",
    "        # 2. 최적화 (손실 산출 및 경사 하강)\n",
    "        for i in range(학습횟수):\n",
    "            dw, db = self.경사산출(X, y)\n",
    "            self.w.assign_sub(dw * 학습률)\n",
    "            self.b.assign_sub(db * 학습률)"
   ]
  },
  {
   "cell_type": "code",
   "execution_count": 116,
   "id": "a7b36c1f-7e22-4499-a257-d93d0e448c6c",
   "metadata": {
    "tags": []
   },
   "outputs": [],
   "source": [
    "tf_linreg = TFLinearRegression()\n",
    "tf_linreg.w = w\n",
    "tf_linreg.b = b\n",
    "assert np.all(tf_linreg.predict(X).numpy().flatten() == linreg.predict(X))"
   ]
  },
  {
   "cell_type": "code",
   "execution_count": 127,
   "id": "7f6ccaff-4b42-449e-baad-e5243a611ad1",
   "metadata": {
    "tags": []
   },
   "outputs": [
    {
     "name": "stdout",
     "output_type": "stream",
     "text": [
      "w=[0.98579866], b=0.04786791279911995\n"
     ]
    },
    {
     "data": {
      "text/plain": [
       "[<matplotlib.lines.Line2D at 0x7f418d174b50>]"
      ]
     },
     "execution_count": 127,
     "metadata": {},
     "output_type": "execute_result"
    },
    {
     "data": {
      "image/png": "[encoded data removed]",
      "text/plain": [
       "<Figure size 640x480 with 1 Axes>"
      ]
     },
     "metadata": {},
     "output_type": "display_data"
    }
   ],
   "source": [
    "x = np.linspace(-5, 5, 100)\n",
    "noise = np.random.randn(len(x))\n",
    "y = x + noise\n",
    "\n",
    "X = tf.constant(x.reshape(-1, 1), dtype=tf.float32)\n",
    "                \n",
    "linreg = TFLinearRegression()\n",
    "linreg.fit(X, y, 학습횟수=10, 학습률=0.1)\n",
    "print(f'w={linreg.w.numpy()}, b={linreg.b.numpy()}')\n",
    "\n",
    "plt.scatter(x, y)\n",
    "plt.plot(x, linreg.predict(X), 'r--')"
   ]
  },
  {
   "cell_type": "markdown",
   "id": "912800b0-3abc-4c6b-a8cf-0f5c9b98fe68",
   "metadata": {},
   "source": [
    "## Keras API"
   ]
  },
  {
   "cell_type": "code",
   "execution_count": 134,
   "id": "535e01c3-0ac4-48cb-9996-be3d018178c7",
   "metadata": {
    "collapsed": true,
    "jupyter": {
     "outputs_hidden": true
    },
    "tags": []
   },
   "outputs": [
    {
     "name": "stdout",
     "output_type": "stream",
     "text": [
      "Epoch 1/10\n",
      "4/4 [==============================] - 0s 1ms/step - loss: 19.1807\n",
      "Epoch 2/10\n",
      "4/4 [==============================] - 0s 897us/step - loss: 8.7818\n",
      "Epoch 3/10\n",
      "4/4 [==============================] - 0s 961us/step - loss: 3.0020\n",
      "Epoch 4/10\n",
      "4/4 [==============================] - 0s 877us/step - loss: 3.5000\n",
      "Epoch 5/10\n",
      "4/4 [==============================] - 0s 790us/step - loss: 1.1371\n",
      "Epoch 6/10\n",
      "4/4 [==============================] - 0s 818us/step - loss: 1.0882\n",
      "Epoch 7/10\n",
      "4/4 [==============================] - 0s 817us/step - loss: 1.1286\n",
      "Epoch 8/10\n",
      "4/4 [==============================] - 0s 929us/step - loss: 1.1214\n",
      "Epoch 9/10\n",
      "4/4 [==============================] - 0s 884us/step - loss: 2.4187\n",
      "Epoch 10/10\n",
      "4/4 [==============================] - 0s 872us/step - loss: 1.5033\n"
     ]
    },
    {
     "data": {
      "text/plain": [
       "<keras.callbacks.History at 0x7f418cfe0610>"
      ]
     },
     "execution_count": 134,
     "metadata": {},
     "output_type": "execute_result"
    }
   ],
   "source": [
    "from tensorflow.keras import Sequential, layers, optimizers\n",
    "\n",
    "linreg = Sequential([layers.Dense(1)])\n",
    "linreg.compile(loss='mse', optimizer=optimizers.SGD(learning_rate=0.1))\n",
    "linreg.fit(X, y, epochs=10)"
   ]
  },
  {
   "cell_type": "code",
   "execution_count": 135,
   "id": "2fd6ecab-3f08-4cfb-98ce-2e441d818ab0",
   "metadata": {
    "tags": []
   },
   "outputs": [
    {
     "name": "stdout",
     "output_type": "stream",
     "text": [
      "4/4 [==============================] - 0s 725us/step\n"
     ]
    },
    {
     "data": {
      "text/plain": [
       "[<matplotlib.lines.Line2D at 0x7f418ce892e0>]"
      ]
     },
     "execution_count": 135,
     "metadata": {},
     "output_type": "execute_result"
    },
    {
     "data": {
      "image/png": "[encoded data removed]",
      "text/plain": [
       "<Figure size 640x480 with 1 Axes>"
      ]
     },
     "metadata": {},
     "output_type": "display_data"
    }
   ],
   "source": [
    "plt.scatter(x, y)\n",
    "plt.plot(x, linreg.predict(X), 'r--')"
   ]
  },
  {
   "cell_type": "markdown",
   "id": "ab6ac07e-ce50-4068-85f7-c809525f817f",
   "metadata": {},
   "source": [
    "## 신경망 간단한 모형 예시\n",
    "\n",
    "1. 분류\n",
    "1. 회귀"
   ]
  },
  {
   "cell_type": "code",
   "execution_count": 137,
   "id": "b0e1dd7c-956e-4b42-9b08-97b30b36d4a9",
   "metadata": {
    "collapsed": true,
    "jupyter": {
     "outputs_hidden": true
    },
    "tags": []
   },
   "outputs": [
    {
     "name": "stdout",
     "output_type": "stream",
     "text": [
      "Downloading data from https://storage.googleapis.com/tensorflow/tf-keras-datasets/train-labels-idx1-ubyte.gz\n",
      "29515/29515 [==============================] - 0s 1us/step\n",
      "Downloading data from https://storage.googleapis.com/tensorflow/tf-keras-datasets/train-images-idx3-ubyte.gz\n",
      "26421880/26421880 [==============================] - 2s 0us/step\n",
      "Downloading data from https://storage.googleapis.com/tensorflow/tf-keras-datasets/t10k-labels-idx1-ubyte.gz\n",
      "5148/5148 [==============================] - 0s 0us/step\n",
      "Downloading data from https://storage.googleapis.com/tensorflow/tf-keras-datasets/t10k-images-idx3-ubyte.gz\n",
      "4422102/4422102 [==============================] - 0s 0us/step\n"
     ]
    }
   ],
   "source": [
    "from tensorflow.keras.datasets import fashion_mnist\n",
    "\n",
    "(train_images, train_labels), (test_images, test_labels) = fashion_mnist.load_data()"
   ]
  },
  {
   "cell_type": "code",
   "execution_count": 138,
   "id": "e04909b6-8dcc-4273-a538-82cb0e7a05dc",
   "metadata": {
    "tags": []
   },
   "outputs": [
    {
     "data": {
      "text/plain": [
       "(60000, 28, 28)"
      ]
     },
     "execution_count": 138,
     "metadata": {},
     "output_type": "execute_result"
    }
   ],
   "source": [
    "train_images.shape"
   ]
  },
  {
   "cell_type": "code",
   "execution_count": 139,
   "id": "fb35192e-dd16-4988-966e-36d9572c9bdf",
   "metadata": {
    "tags": []
   },
   "outputs": [
    {
     "data": {
      "text/plain": [
       "array([0, 1, 2, 3, 4, 5, 6, 7, 8, 9], dtype=uint8)"
      ]
     },
     "execution_count": 139,
     "metadata": {},
     "output_type": "execute_result"
    }
   ],
   "source": [
    "np.unique(train_labels)"
   ]
  },
  {
   "cell_type": "code",
   "execution_count": 140,
   "id": "3a4f33b6-93ae-4dee-9130-3c33ffcebf59",
   "metadata": {
    "collapsed": true,
    "jupyter": {
     "outputs_hidden": true
    },
    "tags": []
   },
   "outputs": [
    {
     "data": {
      "text/plain": [
       "<matplotlib.image.AxesImage at 0x7f418cefb580>"
      ]
     },
     "execution_count": 140,
     "metadata": {},
     "output_type": "execute_result"
    },
    {
     "data": {
      "image/png": "[encoded data removed]",
      "text/plain": [
       "<Figure size 640x480 with 1 Axes>"
      ]
     },
     "metadata": {},
     "output_type": "display_data"
    }
   ],
   "source": [
    "plt.imshow(train_images[0])"
   ]
  },
  {
   "cell_type": "code",
   "execution_count": 145,
   "id": "314f48e5-36f9-4ac6-a2ba-454f2d0dd77c",
   "metadata": {
    "tags": []
   },
   "outputs": [
    {
     "data": {
      "image/png": "[encoded data removed]",
      "text/plain": [
       "<Figure size 800x400 with 10 Axes>"
      ]
     },
     "metadata": {},
     "output_type": "display_data"
    }
   ],
   "source": [
    "fig, subplots = plt.subplots(2, 5, figsize=(8, 4))\n",
    "for 표본, 라벨, 그래프 in zip(train_images, train_labels, subplots.ravel()):\n",
    "    그래프.imshow(표본)\n",
    "    그래프.set_title(f'y={라벨}')\n",
    "    그래프.axis('off')"
   ]
  },
  {
   "cell_type": "code",
   "execution_count": 149,
   "id": "a965ef50-5576-4253-aaef-5645e060c4ac",
   "metadata": {
    "tags": []
   },
   "outputs": [
    {
     "name": "stdout",
     "output_type": "stream",
     "text": [
      "Epoch 1/10\n",
      "469/469 [==============================] - 1s 838us/step - loss: 0.6732 - acc: 0.7682\n",
      "Epoch 2/10\n",
      "469/469 [==============================] - 0s 840us/step - loss: 0.4776 - acc: 0.8333\n",
      "Epoch 3/10\n",
      "469/469 [==============================] - 0s 853us/step - loss: 0.4370 - acc: 0.8472\n",
      "Epoch 4/10\n",
      "469/469 [==============================] - 0s 867us/step - loss: 0.4133 - acc: 0.8547\n",
      "Epoch 5/10\n",
      "469/469 [==============================] - 0s 827us/step - loss: 0.3945 - acc: 0.8604\n",
      "Epoch 6/10\n",
      "469/469 [==============================] - 0s 826us/step - loss: 0.3839 - acc: 0.8632\n",
      "Epoch 7/10\n",
      "469/469 [==============================] - 0s 872us/step - loss: 0.3725 - acc: 0.8676\n",
      "Epoch 8/10\n",
      "469/469 [==============================] - 0s 833us/step - loss: 0.3645 - acc: 0.8696\n",
      "Epoch 9/10\n",
      "469/469 [==============================] - 0s 833us/step - loss: 0.3588 - acc: 0.8716\n",
      "Epoch 10/10\n",
      "469/469 [==============================] - 0s 860us/step - loss: 0.3483 - acc: 0.8750\n"
     ]
    },
    {
     "data": {
      "text/plain": [
       "<keras.callbacks.History at 0x7f42c2374e50>"
      ]
     },
     "execution_count": 149,
     "metadata": {},
     "output_type": "execute_result"
    }
   ],
   "source": [
    "from tensorflow.keras import Sequential, layers, losses, optimizers\n",
    "\n",
    "의류분류기 = Sequential([\n",
    "    layers.Dense(32, activation='relu'),\n",
    "    layers.Dense(10, activation='softmax', name='output')\n",
    "])\n",
    "\n",
    "의류분류기.compile(\n",
    "    loss=losses.sparse_categorical_crossentropy, \n",
    "    optimizer=optimizers.SGD(learning_rate=0.1),\n",
    "    metrics=['acc']\n",
    ")\n",
    "\n",
    "X_train = 전처리(train_images)\n",
    "X_test = 전처리(test_images)\n",
    "\n",
    "의류분류기.fit(X_train, train_labels, epochs=10, batch_size=128)"
   ]
  },
  {
   "cell_type": "code",
   "execution_count": null,
   "id": "9626a883-82ef-4f08-9eb0-39c824d00579",
   "metadata": {},
   "outputs": [],
   "source": []
  }
 ],
 "metadata": {
  "kernelspec": {
   "display_name": "pydeep",
   "language": "python",
   "name": "pydeep"
  },
  "language_info": {
   "codemirror_mode": {
    "name": "ipython",
    "version": 3
   },
   "file_extension": ".py",
   "mimetype": "text/x-python",
   "name": "python",
   "nbconvert_exporter": "python",
   "pygments_lexer": "ipython3",
   "version": "3.9.16"
  }
 },
 "nbformat": 4,
 "nbformat_minor": 5
}
